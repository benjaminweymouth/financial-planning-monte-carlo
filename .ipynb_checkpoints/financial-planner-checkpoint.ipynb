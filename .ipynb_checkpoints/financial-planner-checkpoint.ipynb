{
 "cells": [
  {
   "cell_type": "markdown",
   "metadata": {},
   "source": [
    "# Unit 5 - Financial Planning"
   ]
  },
  {
   "cell_type": "code",
   "execution_count": 1,
   "metadata": {},
   "outputs": [],
   "source": [
    "# Initial imports\n",
    "import os\n",
    "import requests\n",
    "import json\n",
    "import pandas as pd\n",
    "from dotenv import load_dotenv\n",
    "import alpaca_trade_api as tradeapi\n",
    "from MCForecastTools import MCSimulation\n",
    "\n",
    "%matplotlib inline"
   ]
  },
  {
   "cell_type": "code",
   "execution_count": 2,
   "metadata": {},
   "outputs": [
    {
     "data": {
      "text/plain": [
       "True"
      ]
     },
     "execution_count": 2,
     "metadata": {},
     "output_type": "execute_result"
    }
   ],
   "source": [
    "# Load .env enviroment variables\n",
    "load_dotenv()"
   ]
  },
  {
   "cell_type": "markdown",
   "metadata": {},
   "source": [
    "## Part 1 - Personal Finance Planner"
   ]
  },
  {
   "cell_type": "markdown",
   "metadata": {},
   "source": [
    "### Collect Crypto Prices Using the `requests` Library"
   ]
  },
  {
   "cell_type": "code",
   "execution_count": 3,
   "metadata": {},
   "outputs": [],
   "source": [
    "# Set current amount of crypto assets\n",
    "my_btc = 1.2\n",
    "my_eth = 5.3"
   ]
  },
  {
   "cell_type": "code",
   "execution_count": 4,
   "metadata": {},
   "outputs": [],
   "source": [
    "# Crypto API URLs\n",
    "btc_url = \"https://api.alternative.me/v2/ticker/Bitcoin/?convert=CAD\"\n",
    "eth_url = \"https://api.alternative.me/v2/ticker/Ethereum/?convert=CAD\""
   ]
  },
  {
   "cell_type": "code",
   "execution_count": 5,
   "metadata": {},
   "outputs": [
    {
     "name": "stdout",
     "output_type": "stream",
     "text": [
      "The current market price of BTC is $55515.74\n",
      "The current market price of ETH is $3870.06\n"
     ]
    }
   ],
   "source": [
    "# Fetch current BTC price\n",
    " \n",
    "btc_response_data = requests.get(btc_url).json()\n",
    "#print(json.dumps(btc_response_data, indent=4))\n",
    "\n",
    "# Fetch current ETH price\n",
    "eth_response_data = requests.get(eth_url).json()\n",
    "#print(json.dumps(eth_response_data, indent=4))\n",
    "\n",
    "# Compute current value of my crpto\n",
    "# YOUR CODE HERE!\n",
    "btc_current_value = btc_response_data[\"data\"][\"1\"][\"quotes\"][\"CAD\"][\"price\"]\n",
    "#print(btc_current_value)\n",
    "eth_current_value = eth_response_data[\"data\"][\"1027\"][\"quotes\"][\"CAD\"][\"price\"]\n",
    "#print(eth_current_value)\n",
    "\n",
    "print(f\"The current market price of BTC is ${btc_current_value:0.2f}\")\n",
    "print(f\"The current market price of ETH is ${eth_current_value:0.2f}\")"
   ]
  },
  {
   "cell_type": "code",
   "execution_count": 6,
   "metadata": {},
   "outputs": [
    {
     "name": "stdout",
     "output_type": "stream",
     "text": [
      "The current value of your 1.2 BTC is $66618.89\n",
      "The current value of your 5.3 ETH is $20511.31\n",
      "Total value of your crypto wallet is:  $87130.20\n"
     ]
    }
   ],
   "source": [
    "# Print current crypto wallet balance\n",
    "my_btc_value = my_btc * btc_current_value \n",
    "my_eth_value = my_eth * eth_current_value \n",
    "\n",
    "#total crypto wallet balance \n",
    "\n",
    "total_crypto_balance = my_btc_value + my_eth_value\n",
    "print(f\"The current value of your {my_btc} BTC is ${my_btc_value:0.2f}\")\n",
    "print(f\"The current value of your {my_eth} ETH is ${my_eth_value:0.2f}\")\n",
    "print(f\"Total value of your crypto wallet is:  ${total_crypto_balance:0.2f}\")"
   ]
  },
  {
   "cell_type": "markdown",
   "metadata": {},
   "source": [
    "### Collect Investments Data Using Alpaca: `SPY` (stocks) and `AGG` (bonds)"
   ]
  },
  {
   "cell_type": "code",
   "execution_count": 7,
   "metadata": {},
   "outputs": [],
   "source": [
    "# Set current amount of shares\n",
    "my_agg = 200\n",
    "my_spy = 50"
   ]
  },
  {
   "cell_type": "code",
   "execution_count": 8,
   "metadata": {},
   "outputs": [
    {
     "name": "stdout",
     "output_type": "stream",
     "text": [
      "Alpaca Key type: <class 'str'>\n",
      "Alpaca Secret Key type: <class 'str'>\n"
     ]
    }
   ],
   "source": [
    "# Set Alpaca API key and secret key\n",
    "alpaca_api_key = os.getenv(\"ALPACA_API_KEY\")\n",
    "alpaca_secret_key = os.getenv(\"ALPACA_SECRET_KEY\")\n",
    "print(f\"Alpaca Key type: {type(alpaca_api_key)}\")\n",
    "print(f\"Alpaca Secret Key type: {type(alpaca_secret_key)}\")\n",
    "\n",
    "# Create the Alpaca API object\n",
    "alpaca = tradeapi.REST(\n",
    "    alpaca_api_key,\n",
    "    alpaca_secret_key,\n",
    "    api_version=\"v2\")\n",
    "\n",
    "#alpaca"
   ]
  },
  {
   "cell_type": "code",
   "execution_count": 9,
   "metadata": {},
   "outputs": [
    {
     "data": {
      "text/html": [
       "<div>\n",
       "<style scoped>\n",
       "    .dataframe tbody tr th:only-of-type {\n",
       "        vertical-align: middle;\n",
       "    }\n",
       "\n",
       "    .dataframe tbody tr th {\n",
       "        vertical-align: top;\n",
       "    }\n",
       "\n",
       "    .dataframe thead tr th {\n",
       "        text-align: left;\n",
       "    }\n",
       "</style>\n",
       "<table border=\"1\" class=\"dataframe\">\n",
       "  <thead>\n",
       "    <tr>\n",
       "      <th></th>\n",
       "      <th colspan=\"5\" halign=\"left\">AGG</th>\n",
       "      <th colspan=\"5\" halign=\"left\">SPY</th>\n",
       "    </tr>\n",
       "    <tr>\n",
       "      <th></th>\n",
       "      <th>open</th>\n",
       "      <th>high</th>\n",
       "      <th>low</th>\n",
       "      <th>close</th>\n",
       "      <th>volume</th>\n",
       "      <th>open</th>\n",
       "      <th>high</th>\n",
       "      <th>low</th>\n",
       "      <th>close</th>\n",
       "      <th>volume</th>\n",
       "    </tr>\n",
       "  </thead>\n",
       "  <tbody>\n",
       "    <tr>\n",
       "      <th>2020-04-27</th>\n",
       "      <td>117.21</td>\n",
       "      <td>117.3600</td>\n",
       "      <td>116.8200</td>\n",
       "      <td>116.84</td>\n",
       "      <td>6707494</td>\n",
       "      <td>285.12</td>\n",
       "      <td>288.2700</td>\n",
       "      <td>284.62</td>\n",
       "      <td>287.11</td>\n",
       "      <td>135955115</td>\n",
       "    </tr>\n",
       "    <tr>\n",
       "      <th>2020-04-28</th>\n",
       "      <td>117.27</td>\n",
       "      <td>117.4500</td>\n",
       "      <td>117.1200</td>\n",
       "      <td>117.25</td>\n",
       "      <td>10729690</td>\n",
       "      <td>291.02</td>\n",
       "      <td>291.4000</td>\n",
       "      <td>285.40</td>\n",
       "      <td>285.77</td>\n",
       "      <td>192772205</td>\n",
       "    </tr>\n",
       "    <tr>\n",
       "      <th>2020-04-29</th>\n",
       "      <td>117.29</td>\n",
       "      <td>117.4800</td>\n",
       "      <td>117.2000</td>\n",
       "      <td>117.43</td>\n",
       "      <td>9036494</td>\n",
       "      <td>291.53</td>\n",
       "      <td>294.8800</td>\n",
       "      <td>290.41</td>\n",
       "      <td>293.19</td>\n",
       "      <td>204606690</td>\n",
       "    </tr>\n",
       "    <tr>\n",
       "      <th>2020-04-30</th>\n",
       "      <td>117.38</td>\n",
       "      <td>117.4900</td>\n",
       "      <td>117.0650</td>\n",
       "      <td>117.15</td>\n",
       "      <td>13756340</td>\n",
       "      <td>291.71</td>\n",
       "      <td>293.3239</td>\n",
       "      <td>288.59</td>\n",
       "      <td>290.39</td>\n",
       "      <td>204197726</td>\n",
       "    </tr>\n",
       "    <tr>\n",
       "      <th>2020-05-01</th>\n",
       "      <td>116.97</td>\n",
       "      <td>117.0998</td>\n",
       "      <td>116.6775</td>\n",
       "      <td>116.90</td>\n",
       "      <td>11778582</td>\n",
       "      <td>285.31</td>\n",
       "      <td>290.6572</td>\n",
       "      <td>281.52</td>\n",
       "      <td>282.73</td>\n",
       "      <td>222309009</td>\n",
       "    </tr>\n",
       "  </tbody>\n",
       "</table>\n",
       "</div>"
      ],
      "text/plain": [
       "               AGG                                           SPY            \\\n",
       "              open      high       low   close    volume    open      high   \n",
       "2020-04-27  117.21  117.3600  116.8200  116.84   6707494  285.12  288.2700   \n",
       "2020-04-28  117.27  117.4500  117.1200  117.25  10729690  291.02  291.4000   \n",
       "2020-04-29  117.29  117.4800  117.2000  117.43   9036494  291.53  294.8800   \n",
       "2020-04-30  117.38  117.4900  117.0650  117.15  13756340  291.71  293.3239   \n",
       "2020-05-01  116.97  117.0998  116.6775  116.90  11778582  285.31  290.6572   \n",
       "\n",
       "                                       \n",
       "               low   close     volume  \n",
       "2020-04-27  284.62  287.11  135955115  \n",
       "2020-04-28  285.40  285.77  192772205  \n",
       "2020-04-29  290.41  293.19  204606690  \n",
       "2020-04-30  288.59  290.39  204197726  \n",
       "2020-05-01  281.52  282.73  222309009  "
      ]
     },
     "execution_count": 9,
     "metadata": {},
     "output_type": "execute_result"
    }
   ],
   "source": [
    "# Format current date as ISO format\n",
    "today = pd.Timestamp(\"2016-09-20\", tz=\"America/New_York\").isoformat()\n",
    "end_today = pd.Timestamp(\"2020-05-01\", tz=\"America/New_York\").isoformat()\n",
    "# Set the tickers\n",
    "tickers = [\"AGG\", \"SPY\"]\n",
    "\n",
    "# Set timeframe to '1D' for Alpaca API\n",
    "timeframe = \"1D\"\n",
    "\n",
    "# Get current closing prices for SPY and AGG\n",
    "# (use a limit=1000 parameter to call the most recent 1000 days of data)\n",
    "df_Investments = alpaca.get_barset(\n",
    "    tickers,\n",
    "    timeframe,\n",
    "    start = today,\n",
    "    end= end_today,\n",
    "    limit=1000).df\n",
    "\n",
    "df_Investments.dropna(inplace=True)\n",
    "# Drop the time component of the date\n",
    "df_Investments.index = df_Investments.index.date\n",
    "# Preview DataFrame\n",
    "df_Investments.tail()\n",
    "\n",
    " "
   ]
  },
  {
   "cell_type": "code",
   "execution_count": 10,
   "metadata": {},
   "outputs": [
    {
     "name": "stdout",
     "output_type": "stream",
     "text": [
      "Current AGG closing price: CAD $116.90\n",
      "Current SPY closing price: CAD $282.73\n"
     ]
    }
   ],
   "source": [
    "# Pick AGG and SPY close prices\n",
    "agg_close_price = df_Investments[\"AGG\"][\"close\"].iloc[-1]\n",
    "                                                \n",
    "spy_close_price = df_Investments[\"SPY\"][\"close\"].iloc[-1]\n",
    "\n",
    "# Print AGG and SPY close prices\n",
    "print(f\"Current AGG closing price: CAD ${agg_close_price:0.2f}\")\n",
    "print(f\"Current SPY closing price: CAD ${spy_close_price:0.2f}\")\n"
   ]
  },
  {
   "cell_type": "code",
   "execution_count": 11,
   "metadata": {},
   "outputs": [
    {
     "name": "stdout",
     "output_type": "stream",
     "text": [
      "The current value of your 50 SPY shares is $14136.50\n",
      "The current value of your 200 AGG shares is $23380.00\n",
      "Total value of your stock investments is:  $37516.50\n"
     ]
    }
   ],
   "source": [
    "# Compute the current value of shares\n",
    "my_spy_value = my_spy * spy_close_price\n",
    "my_agg_value = my_agg * agg_close_price\n",
    "total_investments = my_spy_value + my_agg_value\n",
    "# Print current value of shares\n",
    "print(f\"The current value of your {my_spy} SPY shares is ${my_spy_value:0.2f}\")\n",
    "print(f\"The current value of your {my_agg} AGG shares is ${my_agg_value:0.2f}\")\n",
    "print(f\"Total value of your stock investments is:  ${total_investments:0.2f}\")"
   ]
  },
  {
   "cell_type": "markdown",
   "metadata": {},
   "source": [
    "### Savings Health Analysis"
   ]
  },
  {
   "cell_type": "code",
   "execution_count": 12,
   "metadata": {},
   "outputs": [],
   "source": [
    "# Set monthly household income\n",
    "monthly_income=12000"
   ]
  },
  {
   "cell_type": "code",
   "execution_count": 13,
   "metadata": {},
   "outputs": [],
   "source": [
    "# Consolidate financial assets data\n"
   ]
  },
  {
   "cell_type": "code",
   "execution_count": 14,
   "metadata": {},
   "outputs": [
    {
     "data": {
      "text/html": [
       "<div>\n",
       "<style scoped>\n",
       "    .dataframe tbody tr th:only-of-type {\n",
       "        vertical-align: middle;\n",
       "    }\n",
       "\n",
       "    .dataframe tbody tr th {\n",
       "        vertical-align: top;\n",
       "    }\n",
       "\n",
       "    .dataframe thead th {\n",
       "        text-align: right;\n",
       "    }\n",
       "</style>\n",
       "<table border=\"1\" class=\"dataframe\">\n",
       "  <thead>\n",
       "    <tr style=\"text-align: right;\">\n",
       "      <th></th>\n",
       "      <th>amount</th>\n",
       "    </tr>\n",
       "  </thead>\n",
       "  <tbody>\n",
       "    <tr>\n",
       "      <th>crypto</th>\n",
       "      <td>87130.195009</td>\n",
       "    </tr>\n",
       "    <tr>\n",
       "      <th>shares</th>\n",
       "      <td>37516.500000</td>\n",
       "    </tr>\n",
       "  </tbody>\n",
       "</table>\n",
       "</div>"
      ],
      "text/plain": [
       "              amount\n",
       "crypto  87130.195009\n",
       "shares  37516.500000"
      ]
     },
     "metadata": {},
     "output_type": "display_data"
    }
   ],
   "source": [
    "# Create savings DataFrame\n",
    "dict_savings = {'amount': [total_crypto_balance, total_investments]}\n",
    "index_list = ['crypto', 'shares']\n",
    "df_savings = pd.DataFrame(data=dict_savings, index=index_list)\n",
    "\n",
    "# Display savings DataFrame\n",
    "display(df_savings)"
   ]
  },
  {
   "cell_type": "code",
   "execution_count": 15,
   "metadata": {},
   "outputs": [
    {
     "data": {
      "image/png": "[encoded data removed]",
      "text/plain": [
       "<Figure size 360x360 with 1 Axes>"
      ]
     },
     "metadata": {},
     "output_type": "display_data"
    }
   ],
   "source": [
    "# Plot savings pie chart\n",
    "plot = df_savings.plot.pie(y='amount', figsize=(5, 5))"
   ]
  },
  {
   "cell_type": "code",
   "execution_count": 16,
   "metadata": {},
   "outputs": [
    {
     "name": "stdout",
     "output_type": "stream",
     "text": [
      "Combined balance with Crypto and Investments: $37516.50\n",
      "Congratulations! You have enough money in this fund\n"
     ]
    }
   ],
   "source": [
    "# Set ideal emergency fund\n",
    "emergency_fund = monthly_income * 3\n",
    "#print(emergency_fund)\n",
    "\n",
    "# Calculate total amount of savings\n",
    "combined_total_balance = total_crypto_balance + total_investments\n",
    "print(f\"Combined balance with Crypto and Investments: ${total_investments:0.2f}\")\n",
    "\n",
    "# Validate saving health\n",
    "if combined_total_balance > emergency_fund:\n",
    "    print(\"Congratulations! You have enough money in this fund\")\n",
    "elif combined_total_balance == emergency_fund:\n",
    "        print(\"congratulating the person on reaching this financial goal.\")\n",
    "else:\n",
    "     dollars_away = emergency_fund - combined_total_balance \n",
    "     print(f\"Error: not enough funds! However, you are ${dollars_away:0.2f} from your financial goal\")"
   ]
  },
  {
   "cell_type": "markdown",
   "metadata": {},
   "source": [
    "## Part 2 - Retirement Planning\n",
    "\n",
    "### Monte Carlo Simulation"
   ]
  },
  {
   "cell_type": "code",
   "execution_count": 17,
   "metadata": {},
   "outputs": [],
   "source": [
    "# Set start and end dates of five years back from today.\n",
    "# Sample results may vary from the solution based on the time frame chosen\n",
    "start_date = pd.Timestamp('2016-05-01', tz='America/New_York').isoformat()\n",
    "end_date = pd.Timestamp('2021-05-01', tz='America/New_York').isoformat()"
   ]
  },
  {
   "cell_type": "code",
   "execution_count": 18,
   "metadata": {},
   "outputs": [
    {
     "data": {
      "text/html": [
       "<div>\n",
       "<style scoped>\n",
       "    .dataframe tbody tr th:only-of-type {\n",
       "        vertical-align: middle;\n",
       "    }\n",
       "\n",
       "    .dataframe tbody tr th {\n",
       "        vertical-align: top;\n",
       "    }\n",
       "\n",
       "    .dataframe thead tr th {\n",
       "        text-align: left;\n",
       "    }\n",
       "</style>\n",
       "<table border=\"1\" class=\"dataframe\">\n",
       "  <thead>\n",
       "    <tr>\n",
       "      <th></th>\n",
       "      <th colspan=\"5\" halign=\"left\">AGG</th>\n",
       "      <th colspan=\"5\" halign=\"left\">SPY</th>\n",
       "    </tr>\n",
       "    <tr>\n",
       "      <th></th>\n",
       "      <th>open</th>\n",
       "      <th>high</th>\n",
       "      <th>low</th>\n",
       "      <th>close</th>\n",
       "      <th>volume</th>\n",
       "      <th>open</th>\n",
       "      <th>high</th>\n",
       "      <th>low</th>\n",
       "      <th>close</th>\n",
       "      <th>volume</th>\n",
       "    </tr>\n",
       "  </thead>\n",
       "  <tbody>\n",
       "    <tr>\n",
       "      <th>2017-05-11</th>\n",
       "      <td>108.35</td>\n",
       "      <td>108.540</td>\n",
       "      <td>108.3435</td>\n",
       "      <td>108.515</td>\n",
       "      <td>1773499.0</td>\n",
       "      <td>239.35</td>\n",
       "      <td>239.57</td>\n",
       "      <td>238.13</td>\n",
       "      <td>239.410</td>\n",
       "      <td>45435690.0</td>\n",
       "    </tr>\n",
       "    <tr>\n",
       "      <th>2017-05-12</th>\n",
       "      <td>108.81</td>\n",
       "      <td>108.940</td>\n",
       "      <td>108.7800</td>\n",
       "      <td>108.920</td>\n",
       "      <td>1136553.0</td>\n",
       "      <td>239.09</td>\n",
       "      <td>239.21</td>\n",
       "      <td>238.67</td>\n",
       "      <td>239.030</td>\n",
       "      <td>35283567.0</td>\n",
       "    </tr>\n",
       "    <tr>\n",
       "      <th>2017-05-15</th>\n",
       "      <td>108.85</td>\n",
       "      <td>108.940</td>\n",
       "      <td>108.8200</td>\n",
       "      <td>108.890</td>\n",
       "      <td>1620264.0</td>\n",
       "      <td>239.47</td>\n",
       "      <td>240.44</td>\n",
       "      <td>239.45</td>\n",
       "      <td>240.245</td>\n",
       "      <td>42230620.0</td>\n",
       "    </tr>\n",
       "    <tr>\n",
       "      <th>2017-05-16</th>\n",
       "      <td>108.88</td>\n",
       "      <td>109.101</td>\n",
       "      <td>108.8800</td>\n",
       "      <td>109.000</td>\n",
       "      <td>1394153.0</td>\n",
       "      <td>240.62</td>\n",
       "      <td>240.67</td>\n",
       "      <td>239.63</td>\n",
       "      <td>240.100</td>\n",
       "      <td>37206183.0</td>\n",
       "    </tr>\n",
       "    <tr>\n",
       "      <th>2017-05-17</th>\n",
       "      <td>109.35</td>\n",
       "      <td>109.600</td>\n",
       "      <td>109.2800</td>\n",
       "      <td>109.560</td>\n",
       "      <td>2263851.0</td>\n",
       "      <td>238.10</td>\n",
       "      <td>238.64</td>\n",
       "      <td>235.75</td>\n",
       "      <td>235.850</td>\n",
       "      <td>118613594.0</td>\n",
       "    </tr>\n",
       "  </tbody>\n",
       "</table>\n",
       "</div>"
      ],
      "text/plain": [
       "               AGG                                            SPY          \\\n",
       "              open     high       low    close     volume    open    high   \n",
       "2017-05-11  108.35  108.540  108.3435  108.515  1773499.0  239.35  239.57   \n",
       "2017-05-12  108.81  108.940  108.7800  108.920  1136553.0  239.09  239.21   \n",
       "2017-05-15  108.85  108.940  108.8200  108.890  1620264.0  239.47  240.44   \n",
       "2017-05-16  108.88  109.101  108.8800  109.000  1394153.0  240.62  240.67   \n",
       "2017-05-17  109.35  109.600  109.2800  109.560  2263851.0  238.10  238.64   \n",
       "\n",
       "                                          \n",
       "               low    close       volume  \n",
       "2017-05-11  238.13  239.410   45435690.0  \n",
       "2017-05-12  238.67  239.030   35283567.0  \n",
       "2017-05-15  239.45  240.245   42230620.0  \n",
       "2017-05-16  239.63  240.100   37206183.0  \n",
       "2017-05-17  235.75  235.850  118613594.0  "
      ]
     },
     "execution_count": 18,
     "metadata": {},
     "output_type": "execute_result"
    }
   ],
   "source": [
    "# Get 5 years' worth of historical data for SPY and AGG\n",
    "# Format current date as ISO format\n",
    "start_today = pd.Timestamp(\"2016-05-01\", tz=\"America/New_York\").isoformat()\n",
    "stop_today = pd.Timestamp(\"2021-05-01\", tz=\"America/New_York\").isoformat()\n",
    "# Set the tickers\n",
    "tickers = [\"AGG\", \"SPY\"]\n",
    "\n",
    "# Set timeframe to '1D' for Alpaca API\n",
    "timeframe = \"1D\"\n",
    "\n",
    "# Get current closing prices for SPY and AGG\n",
    "# (use a limit=1000 parameter to call the most recent 1000 days of data)\n",
    "df_stock_data = alpaca.get_barset(\n",
    "    tickers,\n",
    "    timeframe,\n",
    "    start = start_today,\n",
    "    end= stop_today,\n",
    "    limit=1000).df\n",
    "\n",
    "df_stock_data.dropna(inplace=True)\n",
    "# Drop the time component of the date\n",
    "df_stock_data.index = df_stock_data.index.date\n",
    "# Preview DataFrame\n",
    "df_stock_data.tail()\n",
    "\n",
    "# Display sample data\n",
    "df_stock_data.head()"
   ]
  },
  {
   "cell_type": "code",
   "execution_count": 33,
   "metadata": {},
   "outputs": [],
   "source": [
    "# Configuring a Monte Carlo simulation to forecast 30 years cumulative returns\n",
    "MC_thirty_year = MCSimulation(\n",
    "    portfolio_data = df_stock_data,\n",
    "    weights = [.40, .60 ],\n",
    "    num_simulation = 1000,\n",
    "    num_trading_days = 252*30\n",
    ")"
   ]
  },
  {
   "cell_type": "code",
   "execution_count": 20,
   "metadata": {},
   "outputs": [
    {
     "data": {
      "text/html": [
       "<div>\n",
       "<style scoped>\n",
       "    .dataframe tbody tr th:only-of-type {\n",
       "        vertical-align: middle;\n",
       "    }\n",
       "\n",
       "    .dataframe tbody tr th {\n",
       "        vertical-align: top;\n",
       "    }\n",
       "\n",
       "    .dataframe thead tr th {\n",
       "        text-align: left;\n",
       "    }\n",
       "</style>\n",
       "<table border=\"1\" class=\"dataframe\">\n",
       "  <thead>\n",
       "    <tr>\n",
       "      <th></th>\n",
       "      <th colspan=\"6\" halign=\"left\">AGG</th>\n",
       "      <th colspan=\"6\" halign=\"left\">SPY</th>\n",
       "    </tr>\n",
       "    <tr>\n",
       "      <th></th>\n",
       "      <th>open</th>\n",
       "      <th>high</th>\n",
       "      <th>low</th>\n",
       "      <th>close</th>\n",
       "      <th>volume</th>\n",
       "      <th>daily_return</th>\n",
       "      <th>open</th>\n",
       "      <th>high</th>\n",
       "      <th>low</th>\n",
       "      <th>close</th>\n",
       "      <th>volume</th>\n",
       "      <th>daily_return</th>\n",
       "    </tr>\n",
       "  </thead>\n",
       "  <tbody>\n",
       "    <tr>\n",
       "      <th>2017-05-11</th>\n",
       "      <td>108.35</td>\n",
       "      <td>108.540</td>\n",
       "      <td>108.3435</td>\n",
       "      <td>108.515</td>\n",
       "      <td>1773499.0</td>\n",
       "      <td>NaN</td>\n",
       "      <td>239.35</td>\n",
       "      <td>239.57</td>\n",
       "      <td>238.13</td>\n",
       "      <td>239.410</td>\n",
       "      <td>45435690.0</td>\n",
       "      <td>NaN</td>\n",
       "    </tr>\n",
       "    <tr>\n",
       "      <th>2017-05-12</th>\n",
       "      <td>108.81</td>\n",
       "      <td>108.940</td>\n",
       "      <td>108.7800</td>\n",
       "      <td>108.920</td>\n",
       "      <td>1136553.0</td>\n",
       "      <td>0.003732</td>\n",
       "      <td>239.09</td>\n",
       "      <td>239.21</td>\n",
       "      <td>238.67</td>\n",
       "      <td>239.030</td>\n",
       "      <td>35283567.0</td>\n",
       "      <td>-0.001587</td>\n",
       "    </tr>\n",
       "    <tr>\n",
       "      <th>2017-05-15</th>\n",
       "      <td>108.85</td>\n",
       "      <td>108.940</td>\n",
       "      <td>108.8200</td>\n",
       "      <td>108.890</td>\n",
       "      <td>1620264.0</td>\n",
       "      <td>-0.000275</td>\n",
       "      <td>239.47</td>\n",
       "      <td>240.44</td>\n",
       "      <td>239.45</td>\n",
       "      <td>240.245</td>\n",
       "      <td>42230620.0</td>\n",
       "      <td>0.005083</td>\n",
       "    </tr>\n",
       "    <tr>\n",
       "      <th>2017-05-16</th>\n",
       "      <td>108.88</td>\n",
       "      <td>109.101</td>\n",
       "      <td>108.8800</td>\n",
       "      <td>109.000</td>\n",
       "      <td>1394153.0</td>\n",
       "      <td>0.001010</td>\n",
       "      <td>240.62</td>\n",
       "      <td>240.67</td>\n",
       "      <td>239.63</td>\n",
       "      <td>240.100</td>\n",
       "      <td>37206183.0</td>\n",
       "      <td>-0.000604</td>\n",
       "    </tr>\n",
       "    <tr>\n",
       "      <th>2017-05-17</th>\n",
       "      <td>109.35</td>\n",
       "      <td>109.600</td>\n",
       "      <td>109.2800</td>\n",
       "      <td>109.560</td>\n",
       "      <td>2263851.0</td>\n",
       "      <td>0.005138</td>\n",
       "      <td>238.10</td>\n",
       "      <td>238.64</td>\n",
       "      <td>235.75</td>\n",
       "      <td>235.850</td>\n",
       "      <td>118613594.0</td>\n",
       "      <td>-0.017701</td>\n",
       "    </tr>\n",
       "  </tbody>\n",
       "</table>\n",
       "</div>"
      ],
      "text/plain": [
       "               AGG                                                      \\\n",
       "              open     high       low    close     volume daily_return   \n",
       "2017-05-11  108.35  108.540  108.3435  108.515  1773499.0          NaN   \n",
       "2017-05-12  108.81  108.940  108.7800  108.920  1136553.0     0.003732   \n",
       "2017-05-15  108.85  108.940  108.8200  108.890  1620264.0    -0.000275   \n",
       "2017-05-16  108.88  109.101  108.8800  109.000  1394153.0     0.001010   \n",
       "2017-05-17  109.35  109.600  109.2800  109.560  2263851.0     0.005138   \n",
       "\n",
       "               SPY                                                     \n",
       "              open    high     low    close       volume daily_return  \n",
       "2017-05-11  239.35  239.57  238.13  239.410   45435690.0          NaN  \n",
       "2017-05-12  239.09  239.21  238.67  239.030   35283567.0    -0.001587  \n",
       "2017-05-15  239.47  240.44  239.45  240.245   42230620.0     0.005083  \n",
       "2017-05-16  240.62  240.67  239.63  240.100   37206183.0    -0.000604  \n",
       "2017-05-17  238.10  238.64  235.75  235.850  118613594.0    -0.017701  "
      ]
     },
     "execution_count": 20,
     "metadata": {},
     "output_type": "execute_result"
    }
   ],
   "source": [
    "# Printing the simulation input data\n",
    "MC_thirty_year.portfolio_data.head()"
   ]
  },
  {
   "cell_type": "code",
   "execution_count": 21,
   "metadata": {},
   "outputs": [
    {
     "name": "stdout",
     "output_type": "stream",
     "text": [
      "Running Monte Carlo simulation number 0.\n",
      "Running Monte Carlo simulation number 10.\n",
      "Running Monte Carlo simulation number 20.\n",
      "Running Monte Carlo simulation number 30.\n",
      "Running Monte Carlo simulation number 40.\n",
      "Running Monte Carlo simulation number 50.\n",
      "Running Monte Carlo simulation number 60.\n",
      "Running Monte Carlo simulation number 70.\n",
      "Running Monte Carlo simulation number 80.\n",
      "Running Monte Carlo simulation number 90.\n",
      "Running Monte Carlo simulation number 100.\n",
      "Running Monte Carlo simulation number 110.\n",
      "Running Monte Carlo simulation number 120.\n",
      "Running Monte Carlo simulation number 130.\n",
      "Running Monte Carlo simulation number 140.\n",
      "Running Monte Carlo simulation number 150.\n",
      "Running Monte Carlo simulation number 160.\n",
      "Running Monte Carlo simulation number 170.\n",
      "Running Monte Carlo simulation number 180.\n",
      "Running Monte Carlo simulation number 190.\n",
      "Running Monte Carlo simulation number 200.\n",
      "Running Monte Carlo simulation number 210.\n",
      "Running Monte Carlo simulation number 220.\n",
      "Running Monte Carlo simulation number 230.\n",
      "Running Monte Carlo simulation number 240.\n",
      "Running Monte Carlo simulation number 250.\n",
      "Running Monte Carlo simulation number 260.\n",
      "Running Monte Carlo simulation number 270.\n",
      "Running Monte Carlo simulation number 280.\n",
      "Running Monte Carlo simulation number 290.\n",
      "Running Monte Carlo simulation number 300.\n",
      "Running Monte Carlo simulation number 310.\n",
      "Running Monte Carlo simulation number 320.\n",
      "Running Monte Carlo simulation number 330.\n",
      "Running Monte Carlo simulation number 340.\n",
      "Running Monte Carlo simulation number 350.\n",
      "Running Monte Carlo simulation number 360.\n",
      "Running Monte Carlo simulation number 370.\n",
      "Running Monte Carlo simulation number 380.\n",
      "Running Monte Carlo simulation number 390.\n",
      "Running Monte Carlo simulation number 400.\n",
      "Running Monte Carlo simulation number 410.\n",
      "Running Monte Carlo simulation number 420.\n",
      "Running Monte Carlo simulation number 430.\n",
      "Running Monte Carlo simulation number 440.\n",
      "Running Monte Carlo simulation number 450.\n",
      "Running Monte Carlo simulation number 460.\n",
      "Running Monte Carlo simulation number 470.\n",
      "Running Monte Carlo simulation number 480.\n",
      "Running Monte Carlo simulation number 490.\n",
      "Running Monte Carlo simulation number 500.\n",
      "Running Monte Carlo simulation number 510.\n",
      "Running Monte Carlo simulation number 520.\n",
      "Running Monte Carlo simulation number 530.\n",
      "Running Monte Carlo simulation number 540.\n",
      "Running Monte Carlo simulation number 550.\n",
      "Running Monte Carlo simulation number 560.\n",
      "Running Monte Carlo simulation number 570.\n",
      "Running Monte Carlo simulation number 580.\n",
      "Running Monte Carlo simulation number 590.\n",
      "Running Monte Carlo simulation number 600.\n",
      "Running Monte Carlo simulation number 610.\n",
      "Running Monte Carlo simulation number 620.\n",
      "Running Monte Carlo simulation number 630.\n",
      "Running Monte Carlo simulation number 640.\n",
      "Running Monte Carlo simulation number 650.\n",
      "Running Monte Carlo simulation number 660.\n",
      "Running Monte Carlo simulation number 670.\n",
      "Running Monte Carlo simulation number 680.\n",
      "Running Monte Carlo simulation number 690.\n",
      "Running Monte Carlo simulation number 700.\n",
      "Running Monte Carlo simulation number 710.\n",
      "Running Monte Carlo simulation number 720.\n",
      "Running Monte Carlo simulation number 730.\n",
      "Running Monte Carlo simulation number 740.\n",
      "Running Monte Carlo simulation number 750.\n",
      "Running Monte Carlo simulation number 760.\n",
      "Running Monte Carlo simulation number 770.\n",
      "Running Monte Carlo simulation number 780.\n",
      "Running Monte Carlo simulation number 790.\n",
      "Running Monte Carlo simulation number 800.\n",
      "Running Monte Carlo simulation number 810.\n",
      "Running Monte Carlo simulation number 820.\n",
      "Running Monte Carlo simulation number 830.\n",
      "Running Monte Carlo simulation number 840.\n",
      "Running Monte Carlo simulation number 850.\n",
      "Running Monte Carlo simulation number 860.\n",
      "Running Monte Carlo simulation number 870.\n",
      "Running Monte Carlo simulation number 880.\n",
      "Running Monte Carlo simulation number 890.\n",
      "Running Monte Carlo simulation number 900.\n",
      "Running Monte Carlo simulation number 910.\n",
      "Running Monte Carlo simulation number 920.\n",
      "Running Monte Carlo simulation number 930.\n",
      "Running Monte Carlo simulation number 940.\n",
      "Running Monte Carlo simulation number 950.\n",
      "Running Monte Carlo simulation number 960.\n",
      "Running Monte Carlo simulation number 970.\n",
      "Running Monte Carlo simulation number 980.\n",
      "Running Monte Carlo simulation number 990.\n"
     ]
    },
    {
     "data": {
      "text/html": [
       "<div>\n",
       "<style scoped>\n",
       "    .dataframe tbody tr th:only-of-type {\n",
       "        vertical-align: middle;\n",
       "    }\n",
       "\n",
       "    .dataframe tbody tr th {\n",
       "        vertical-align: top;\n",
       "    }\n",
       "\n",
       "    .dataframe thead th {\n",
       "        text-align: right;\n",
       "    }\n",
       "</style>\n",
       "<table border=\"1\" class=\"dataframe\">\n",
       "  <thead>\n",
       "    <tr style=\"text-align: right;\">\n",
       "      <th></th>\n",
       "      <th>0</th>\n",
       "      <th>1</th>\n",
       "      <th>2</th>\n",
       "      <th>3</th>\n",
       "      <th>4</th>\n",
       "      <th>5</th>\n",
       "      <th>6</th>\n",
       "      <th>7</th>\n",
       "      <th>8</th>\n",
       "      <th>9</th>\n",
       "      <th>...</th>\n",
       "      <th>990</th>\n",
       "      <th>991</th>\n",
       "      <th>992</th>\n",
       "      <th>993</th>\n",
       "      <th>994</th>\n",
       "      <th>995</th>\n",
       "      <th>996</th>\n",
       "      <th>997</th>\n",
       "      <th>998</th>\n",
       "      <th>999</th>\n",
       "    </tr>\n",
       "  </thead>\n",
       "  <tbody>\n",
       "    <tr>\n",
       "      <th>0</th>\n",
       "      <td>1.000000</td>\n",
       "      <td>1.000000</td>\n",
       "      <td>1.000000</td>\n",
       "      <td>1.000000</td>\n",
       "      <td>1.000000</td>\n",
       "      <td>1.000000</td>\n",
       "      <td>1.000000</td>\n",
       "      <td>1.000000</td>\n",
       "      <td>1.000000</td>\n",
       "      <td>1.000000</td>\n",
       "      <td>...</td>\n",
       "      <td>1.000000</td>\n",
       "      <td>1.000000</td>\n",
       "      <td>1.000000</td>\n",
       "      <td>1.000000</td>\n",
       "      <td>1.000000</td>\n",
       "      <td>1.000000</td>\n",
       "      <td>1.000000</td>\n",
       "      <td>1.000000</td>\n",
       "      <td>1.000000</td>\n",
       "      <td>1.000000</td>\n",
       "    </tr>\n",
       "    <tr>\n",
       "      <th>1</th>\n",
       "      <td>1.002657</td>\n",
       "      <td>1.015671</td>\n",
       "      <td>0.996865</td>\n",
       "      <td>0.991220</td>\n",
       "      <td>0.987544</td>\n",
       "      <td>1.002791</td>\n",
       "      <td>1.013058</td>\n",
       "      <td>0.999652</td>\n",
       "      <td>1.011646</td>\n",
       "      <td>0.982970</td>\n",
       "      <td>...</td>\n",
       "      <td>0.996494</td>\n",
       "      <td>0.989450</td>\n",
       "      <td>0.999226</td>\n",
       "      <td>1.007051</td>\n",
       "      <td>0.998935</td>\n",
       "      <td>0.989468</td>\n",
       "      <td>0.991457</td>\n",
       "      <td>1.011312</td>\n",
       "      <td>1.000098</td>\n",
       "      <td>1.003090</td>\n",
       "    </tr>\n",
       "    <tr>\n",
       "      <th>2</th>\n",
       "      <td>0.998333</td>\n",
       "      <td>1.028881</td>\n",
       "      <td>1.001546</td>\n",
       "      <td>0.989242</td>\n",
       "      <td>0.989997</td>\n",
       "      <td>0.998573</td>\n",
       "      <td>1.021912</td>\n",
       "      <td>0.999085</td>\n",
       "      <td>0.999032</td>\n",
       "      <td>0.980553</td>\n",
       "      <td>...</td>\n",
       "      <td>1.003913</td>\n",
       "      <td>0.979531</td>\n",
       "      <td>1.000446</td>\n",
       "      <td>0.997572</td>\n",
       "      <td>1.007495</td>\n",
       "      <td>0.992709</td>\n",
       "      <td>0.995834</td>\n",
       "      <td>1.026621</td>\n",
       "      <td>0.980698</td>\n",
       "      <td>1.014136</td>\n",
       "    </tr>\n",
       "    <tr>\n",
       "      <th>3</th>\n",
       "      <td>1.007976</td>\n",
       "      <td>1.055999</td>\n",
       "      <td>0.995972</td>\n",
       "      <td>0.978232</td>\n",
       "      <td>0.987261</td>\n",
       "      <td>0.990105</td>\n",
       "      <td>1.012323</td>\n",
       "      <td>1.002381</td>\n",
       "      <td>0.996641</td>\n",
       "      <td>0.985492</td>\n",
       "      <td>...</td>\n",
       "      <td>1.001734</td>\n",
       "      <td>0.966834</td>\n",
       "      <td>1.006184</td>\n",
       "      <td>0.997976</td>\n",
       "      <td>0.996581</td>\n",
       "      <td>0.979033</td>\n",
       "      <td>1.004670</td>\n",
       "      <td>1.025820</td>\n",
       "      <td>0.982186</td>\n",
       "      <td>1.004500</td>\n",
       "    </tr>\n",
       "    <tr>\n",
       "      <th>4</th>\n",
       "      <td>1.023255</td>\n",
       "      <td>1.050871</td>\n",
       "      <td>0.989852</td>\n",
       "      <td>0.976690</td>\n",
       "      <td>1.001992</td>\n",
       "      <td>0.977196</td>\n",
       "      <td>1.033576</td>\n",
       "      <td>1.003438</td>\n",
       "      <td>0.981222</td>\n",
       "      <td>0.991561</td>\n",
       "      <td>...</td>\n",
       "      <td>1.010209</td>\n",
       "      <td>0.967782</td>\n",
       "      <td>1.005971</td>\n",
       "      <td>0.991554</td>\n",
       "      <td>0.985236</td>\n",
       "      <td>0.962636</td>\n",
       "      <td>1.003606</td>\n",
       "      <td>1.025194</td>\n",
       "      <td>0.986558</td>\n",
       "      <td>1.026106</td>\n",
       "    </tr>\n",
       "    <tr>\n",
       "      <th>...</th>\n",
       "      <td>...</td>\n",
       "      <td>...</td>\n",
       "      <td>...</td>\n",
       "      <td>...</td>\n",
       "      <td>...</td>\n",
       "      <td>...</td>\n",
       "      <td>...</td>\n",
       "      <td>...</td>\n",
       "      <td>...</td>\n",
       "      <td>...</td>\n",
       "      <td>...</td>\n",
       "      <td>...</td>\n",
       "      <td>...</td>\n",
       "      <td>...</td>\n",
       "      <td>...</td>\n",
       "      <td>...</td>\n",
       "      <td>...</td>\n",
       "      <td>...</td>\n",
       "      <td>...</td>\n",
       "      <td>...</td>\n",
       "      <td>...</td>\n",
       "    </tr>\n",
       "    <tr>\n",
       "      <th>1256</th>\n",
       "      <td>1.291841</td>\n",
       "      <td>1.557558</td>\n",
       "      <td>1.490639</td>\n",
       "      <td>1.417987</td>\n",
       "      <td>1.750752</td>\n",
       "      <td>1.849744</td>\n",
       "      <td>2.246786</td>\n",
       "      <td>1.234329</td>\n",
       "      <td>2.043593</td>\n",
       "      <td>2.432196</td>\n",
       "      <td>...</td>\n",
       "      <td>1.512980</td>\n",
       "      <td>1.654210</td>\n",
       "      <td>1.078907</td>\n",
       "      <td>1.482174</td>\n",
       "      <td>1.720479</td>\n",
       "      <td>1.400405</td>\n",
       "      <td>2.043669</td>\n",
       "      <td>0.863874</td>\n",
       "      <td>1.401112</td>\n",
       "      <td>1.594050</td>\n",
       "    </tr>\n",
       "    <tr>\n",
       "      <th>1257</th>\n",
       "      <td>1.304915</td>\n",
       "      <td>1.542449</td>\n",
       "      <td>1.492098</td>\n",
       "      <td>1.407562</td>\n",
       "      <td>1.744678</td>\n",
       "      <td>1.823850</td>\n",
       "      <td>2.232508</td>\n",
       "      <td>1.227734</td>\n",
       "      <td>2.060493</td>\n",
       "      <td>2.405580</td>\n",
       "      <td>...</td>\n",
       "      <td>1.534112</td>\n",
       "      <td>1.652200</td>\n",
       "      <td>1.077162</td>\n",
       "      <td>1.488590</td>\n",
       "      <td>1.719328</td>\n",
       "      <td>1.385611</td>\n",
       "      <td>2.047961</td>\n",
       "      <td>0.863568</td>\n",
       "      <td>1.396767</td>\n",
       "      <td>1.579122</td>\n",
       "    </tr>\n",
       "    <tr>\n",
       "      <th>1258</th>\n",
       "      <td>1.293212</td>\n",
       "      <td>1.551908</td>\n",
       "      <td>1.503722</td>\n",
       "      <td>1.398733</td>\n",
       "      <td>1.739325</td>\n",
       "      <td>1.818879</td>\n",
       "      <td>2.244783</td>\n",
       "      <td>1.252528</td>\n",
       "      <td>2.075301</td>\n",
       "      <td>2.414647</td>\n",
       "      <td>...</td>\n",
       "      <td>1.510431</td>\n",
       "      <td>1.654554</td>\n",
       "      <td>1.070705</td>\n",
       "      <td>1.485106</td>\n",
       "      <td>1.736362</td>\n",
       "      <td>1.400055</td>\n",
       "      <td>2.064040</td>\n",
       "      <td>0.869080</td>\n",
       "      <td>1.417065</td>\n",
       "      <td>1.608605</td>\n",
       "    </tr>\n",
       "    <tr>\n",
       "      <th>1259</th>\n",
       "      <td>1.307555</td>\n",
       "      <td>1.559815</td>\n",
       "      <td>1.499141</td>\n",
       "      <td>1.404526</td>\n",
       "      <td>1.766082</td>\n",
       "      <td>1.810366</td>\n",
       "      <td>2.250685</td>\n",
       "      <td>1.240664</td>\n",
       "      <td>2.060411</td>\n",
       "      <td>2.425179</td>\n",
       "      <td>...</td>\n",
       "      <td>1.508347</td>\n",
       "      <td>1.660749</td>\n",
       "      <td>1.074539</td>\n",
       "      <td>1.462896</td>\n",
       "      <td>1.755596</td>\n",
       "      <td>1.408460</td>\n",
       "      <td>2.039752</td>\n",
       "      <td>0.875130</td>\n",
       "      <td>1.427287</td>\n",
       "      <td>1.611559</td>\n",
       "    </tr>\n",
       "    <tr>\n",
       "      <th>1260</th>\n",
       "      <td>1.319571</td>\n",
       "      <td>1.569202</td>\n",
       "      <td>1.501262</td>\n",
       "      <td>1.417813</td>\n",
       "      <td>1.752958</td>\n",
       "      <td>1.808068</td>\n",
       "      <td>2.252980</td>\n",
       "      <td>1.251871</td>\n",
       "      <td>2.056536</td>\n",
       "      <td>2.419085</td>\n",
       "      <td>...</td>\n",
       "      <td>1.507094</td>\n",
       "      <td>1.649037</td>\n",
       "      <td>1.071517</td>\n",
       "      <td>1.453741</td>\n",
       "      <td>1.763256</td>\n",
       "      <td>1.398621</td>\n",
       "      <td>2.023489</td>\n",
       "      <td>0.872894</td>\n",
       "      <td>1.452577</td>\n",
       "      <td>1.596642</td>\n",
       "    </tr>\n",
       "  </tbody>\n",
       "</table>\n",
       "<p>1261 rows × 1000 columns</p>\n",
       "</div>"
      ],
      "text/plain": [
       "           0         1         2         3         4         5         6    \\\n",
       "0     1.000000  1.000000  1.000000  1.000000  1.000000  1.000000  1.000000   \n",
       "1     1.002657  1.015671  0.996865  0.991220  0.987544  1.002791  1.013058   \n",
       "2     0.998333  1.028881  1.001546  0.989242  0.989997  0.998573  1.021912   \n",
       "3     1.007976  1.055999  0.995972  0.978232  0.987261  0.990105  1.012323   \n",
       "4     1.023255  1.050871  0.989852  0.976690  1.001992  0.977196  1.033576   \n",
       "...        ...       ...       ...       ...       ...       ...       ...   \n",
       "1256  1.291841  1.557558  1.490639  1.417987  1.750752  1.849744  2.246786   \n",
       "1257  1.304915  1.542449  1.492098  1.407562  1.744678  1.823850  2.232508   \n",
       "1258  1.293212  1.551908  1.503722  1.398733  1.739325  1.818879  2.244783   \n",
       "1259  1.307555  1.559815  1.499141  1.404526  1.766082  1.810366  2.250685   \n",
       "1260  1.319571  1.569202  1.501262  1.417813  1.752958  1.808068  2.252980   \n",
       "\n",
       "           7         8         9    ...       990       991       992  \\\n",
       "0     1.000000  1.000000  1.000000  ...  1.000000  1.000000  1.000000   \n",
       "1     0.999652  1.011646  0.982970  ...  0.996494  0.989450  0.999226   \n",
       "2     0.999085  0.999032  0.980553  ...  1.003913  0.979531  1.000446   \n",
       "3     1.002381  0.996641  0.985492  ...  1.001734  0.966834  1.006184   \n",
       "4     1.003438  0.981222  0.991561  ...  1.010209  0.967782  1.005971   \n",
       "...        ...       ...       ...  ...       ...       ...       ...   \n",
       "1256  1.234329  2.043593  2.432196  ...  1.512980  1.654210  1.078907   \n",
       "1257  1.227734  2.060493  2.405580  ...  1.534112  1.652200  1.077162   \n",
       "1258  1.252528  2.075301  2.414647  ...  1.510431  1.654554  1.070705   \n",
       "1259  1.240664  2.060411  2.425179  ...  1.508347  1.660749  1.074539   \n",
       "1260  1.251871  2.056536  2.419085  ...  1.507094  1.649037  1.071517   \n",
       "\n",
       "           993       994       995       996       997       998       999  \n",
       "0     1.000000  1.000000  1.000000  1.000000  1.000000  1.000000  1.000000  \n",
       "1     1.007051  0.998935  0.989468  0.991457  1.011312  1.000098  1.003090  \n",
       "2     0.997572  1.007495  0.992709  0.995834  1.026621  0.980698  1.014136  \n",
       "3     0.997976  0.996581  0.979033  1.004670  1.025820  0.982186  1.004500  \n",
       "4     0.991554  0.985236  0.962636  1.003606  1.025194  0.986558  1.026106  \n",
       "...        ...       ...       ...       ...       ...       ...       ...  \n",
       "1256  1.482174  1.720479  1.400405  2.043669  0.863874  1.401112  1.594050  \n",
       "1257  1.488590  1.719328  1.385611  2.047961  0.863568  1.396767  1.579122  \n",
       "1258  1.485106  1.736362  1.400055  2.064040  0.869080  1.417065  1.608605  \n",
       "1259  1.462896  1.755596  1.408460  2.039752  0.875130  1.427287  1.611559  \n",
       "1260  1.453741  1.763256  1.398621  2.023489  0.872894  1.452577  1.596642  \n",
       "\n",
       "[1261 rows x 1000 columns]"
      ]
     },
     "execution_count": 21,
     "metadata": {},
     "output_type": "execute_result"
    }
   ],
   "source": [
    "# Running a Monte Carlo simulation to forecast 30 years cumulative returns\n",
    "MC_thirty_year.calc_cumulative_return()"
   ]
  },
  {
   "cell_type": "code",
   "execution_count": 22,
   "metadata": {},
   "outputs": [
    {
     "data": {
      "image/png": "[encoded data removed]",
      "text/plain": [
       "<Figure size 432x288 with 1 Axes>"
      ]
     },
     "metadata": {
      "needs_background": "light"
     },
     "output_type": "display_data"
    }
   ],
   "source": [
    "# Plot simulation outcomes\n",
    "line_plot = MC_thirty_year.plot_simulation()\n",
    "# Save the plot for future usage\n",
    "line_plot.get_figure().savefig(\"MC_thirty_year.png\", bbox_inches=\"tight\")"
   ]
  },
  {
   "cell_type": "code",
   "execution_count": 23,
   "metadata": {},
   "outputs": [
    {
     "data": {
      "image/png": "[encoded data removed]",
      "text/plain": [
       "<Figure size 432x288 with 1 Axes>"
      ]
     },
     "metadata": {
      "needs_background": "light"
     },
     "output_type": "display_data"
    }
   ],
   "source": [
    "# Plot probability distribution and confidence intervals\n",
    "dist_plot = MC_thirty_year.plot_distribution()"
   ]
  },
  {
   "cell_type": "markdown",
   "metadata": {},
   "source": [
    "### Retirement Analysis"
   ]
  },
  {
   "cell_type": "code",
   "execution_count": 24,
   "metadata": {},
   "outputs": [
    {
     "name": "stdout",
     "output_type": "stream",
     "text": [
      "count           1000.000000\n",
      "mean               1.670356\n",
      "std                0.495665\n",
      "min                0.722151\n",
      "25%                1.322097\n",
      "50%                1.578465\n",
      "75%                1.947029\n",
      "max                4.192093\n",
      "95% CI Lower       0.914446\n",
      "95% CI Upper       2.781881\n",
      "Name: 1260, dtype: float64\n"
     ]
    }
   ],
   "source": [
    "# Fetch summary statistics from the Monte Carlo simulation results\n",
    "tbl = MC_thirty_year.summarize_cumulative_return()\n",
    "\n",
    "# Print summary statistics\n",
    "print(tbl)"
   ]
  },
  {
   "cell_type": "markdown",
   "metadata": {},
   "source": [
    "### Calculate the expected portfolio return at the `95%` lower and upper confidence intervals based on a `$20,000` initial investment."
   ]
  },
  {
   "cell_type": "code",
   "execution_count": 25,
   "metadata": {},
   "outputs": [
    {
     "name": "stdout",
     "output_type": "stream",
     "text": [
      "There is a 95% chance that an initial investment of $20000 in the portfolio over the next 30 years will end within in the range of $18288.91 and $55637.62\n"
     ]
    }
   ],
   "source": [
    "# Set initial investment\n",
    "initial_investment = 20000\n",
    "\n",
    "# Use the lower and upper `95%` confidence intervals to calculate the range of the possible outcomes of our $20,000\n",
    "ci_lower = round(tbl[8]*initial_investment,2)\n",
    "ci_upper = round(tbl[9]*initial_investment,2)\n",
    "\n",
    "# Print results\n",
    "print(f\"There is a 95% chance that an initial investment of ${initial_investment} in the portfolio\"\n",
    "      f\" over the next 30 years will end within in the range of\"\n",
    "      f\" ${ci_lower} and ${ci_upper}\")"
   ]
  },
  {
   "cell_type": "markdown",
   "metadata": {},
   "source": [
    "### Calculate the expected portfolio return at the `95%` lower and upper confidence intervals based on a `50%` increase in the initial investment."
   ]
  },
  {
   "cell_type": "code",
   "execution_count": 26,
   "metadata": {},
   "outputs": [
    {
     "name": "stdout",
     "output_type": "stream",
     "text": [
      "There is a 95% chance that an initial investment of $30000.0 in the portfolio over the next 30 years will end within in the range of $18288.91 and $55637.62\n"
     ]
    }
   ],
   "source": [
    "# Set initial investment\n",
    "initial_investment = 20000 * 1.5\n",
    "\n",
    "# Use the lower and upper `95%` confidence intervals to calculate the range of the possible outcomes of our $30,000\n",
    "ci_lower = round(tbl[8]*initial_investment,2)\n",
    "ci_upper = round(tbl[9]*initial_investment,2)\n",
    "\n",
    "# Print results\n",
    "print(f\"There is a 95% chance that an initial investment of ${initial_investment} in the portfolio\"\n",
    "      f\" over the next 30 years will end within in the range of\"\n",
    "      f\" ${ci_lower} and ${ci_upper}\")"
   ]
  },
  {
   "cell_type": "markdown",
   "metadata": {},
   "source": [
    "## Optional Challenge - Early Retirement\n",
    "\n",
    "\n",
    "### Five Years Retirement Option"
   ]
  },
  {
   "cell_type": "code",
   "execution_count": 27,
   "metadata": {},
   "outputs": [],
   "source": [
    "# Configuring a Monte Carlo simulation to forecast 5 years cumulative returns\n",
    "# YOUR CODE HERE!"
   ]
  },
  {
   "cell_type": "code",
   "execution_count": 28,
   "metadata": {},
   "outputs": [],
   "source": [
    "# Running a Monte Carlo simulation to forecast 5 years cumulative returns\n",
    "# YOUR CODE HERE!"
   ]
  },
  {
   "cell_type": "code",
   "execution_count": 29,
   "metadata": {},
   "outputs": [],
   "source": [
    "# Plot simulation outcomes\n",
    "# YOUR CODE HERE!"
   ]
  },
  {
   "cell_type": "code",
   "execution_count": 30,
   "metadata": {},
   "outputs": [],
   "source": [
    "# Plot probability distribution and confidence intervals\n",
    "# YOUR CODE HERE!"
   ]
  },
  {
   "cell_type": "code",
   "execution_count": 31,
   "metadata": {},
   "outputs": [],
   "source": [
    "# Fetch summary statistics from the Monte Carlo simulation results\n",
    "# YOUR CODE HERE!\n",
    "\n",
    "# Print summary statistics\n",
    "# YOUR CODE HERE!"
   ]
  },
  {
   "cell_type": "code",
   "execution_count": 32,
   "metadata": {},
   "outputs": [
    {
     "ename": "NameError",
     "evalue": "name 'ci_lower_five' is not defined",
     "output_type": "error",
     "traceback": [
      "\u001b[1;31m---------------------------------------------------------------------------\u001b[0m",
      "\u001b[1;31mNameError\u001b[0m                                 Traceback (most recent call last)",
      "\u001b[1;32m<ipython-input-32-d56b774f48d0>\u001b[0m in \u001b[0;36m<module>\u001b[1;34m\u001b[0m\n\u001b[0;32m      6\u001b[0m \u001b[1;33m\u001b[0m\u001b[0m\n\u001b[0;32m      7\u001b[0m \u001b[1;31m# Print results\u001b[0m\u001b[1;33m\u001b[0m\u001b[1;33m\u001b[0m\u001b[1;33m\u001b[0m\u001b[0m\n\u001b[1;32m----> 8\u001b[1;33m print(f\"There is a 95% chance that an initial investment of ${initial_investment} in the portfolio\"\n\u001b[0m\u001b[0;32m      9\u001b[0m       \u001b[1;34mf\" over the next 5 years will end within in the range of\"\u001b[0m\u001b[1;33m\u001b[0m\u001b[1;33m\u001b[0m\u001b[0m\n\u001b[0;32m     10\u001b[0m       f\" ${ci_lower_five} and ${ci_upper_five}\")\n",
      "\u001b[1;31mNameError\u001b[0m: name 'ci_lower_five' is not defined"
     ]
    }
   ],
   "source": [
    "# Set initial investment\n",
    "# YOUR CODE HERE!\n",
    "\n",
    "# Use the lower and upper `95%` confidence intervals to calculate the range of the possible outcomes of our $60,000\n",
    "# YOUR CODE HERE!\n",
    "\n",
    "# Print results\n",
    "print(f\"There is a 95% chance that an initial investment of ${initial_investment} in the portfolio\"\n",
    "      f\" over the next 5 years will end within in the range of\"\n",
    "      f\" ${ci_lower_five} and ${ci_upper_five}\")"
   ]
  },
  {
   "cell_type": "markdown",
   "metadata": {},
   "source": [
    "### Ten Years Retirement Option"
   ]
  },
  {
   "cell_type": "code",
   "execution_count": null,
   "metadata": {},
   "outputs": [],
   "source": [
    "# Configuring a Monte Carlo simulation to forecast 10 years cumulative returns\n",
    "# YOUR CODE HERE!"
   ]
  },
  {
   "cell_type": "code",
   "execution_count": null,
   "metadata": {},
   "outputs": [],
   "source": [
    "# Running a Monte Carlo simulation to forecast 10 years cumulative returns\n",
    "# YOUR CODE HERE!"
   ]
  },
  {
   "cell_type": "code",
   "execution_count": null,
   "metadata": {},
   "outputs": [],
   "source": [
    "# Plot simulation outcomes\n",
    "# YOUR CODE HERE!"
   ]
  },
  {
   "cell_type": "code",
   "execution_count": null,
   "metadata": {},
   "outputs": [],
   "source": [
    "# Plot probability distribution and confidence intervals\n",
    "# YOUR CODE HERE!"
   ]
  },
  {
   "cell_type": "code",
   "execution_count": null,
   "metadata": {},
   "outputs": [],
   "source": [
    "# Fetch summary statistics from the Monte Carlo simulation results\n",
    "# YOUR CODE HERE!\n",
    "\n",
    "# Print summary statistics\n",
    "# YOUR CODE HERE!"
   ]
  },
  {
   "cell_type": "code",
   "execution_count": null,
   "metadata": {},
   "outputs": [],
   "source": [
    "# Set initial investment\n",
    "# YOUR CODE HERE!\n",
    "\n",
    "# Use the lower and upper `95%` confidence intervals to calculate the range of the possible outcomes of our $60,000\n",
    "# YOUR CODE HERE!\n",
    "\n",
    "# Print results\n",
    "print(f\"There is a 95% chance that an initial investment of ${initial_investment} in the portfolio\"\n",
    "      f\" over the next 10 years will end within in the range of\"\n",
    "      f\" ${ci_lower_ten} and ${ci_upper_ten}\")"
   ]
  },
  {
   "cell_type": "code",
   "execution_count": null,
   "metadata": {},
   "outputs": [],
   "source": []
  }
 ],
 "metadata": {
  "kernelspec": {
   "display_name": "Python 3",
   "language": "python",
   "name": "python3"
  },
  "language_info": {
   "codemirror_mode": {
    "name": "ipython",
    "version": 3
   },
   "file_extension": ".py",
   "mimetype": "text/x-python",
   "name": "python",
   "nbconvert_exporter": "python",
   "pygments_lexer": "ipython3",
   "version": "3.7.10"
  },
  "nteract": {
   "version": "0.28.0"
  }
 },
 "nbformat": 4,
 "nbformat_minor": 4
}
