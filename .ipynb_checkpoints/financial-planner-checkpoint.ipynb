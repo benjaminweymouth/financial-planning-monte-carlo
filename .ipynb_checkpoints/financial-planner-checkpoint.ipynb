{
 "cells": [
  {
   "cell_type": "markdown",
   "metadata": {},
   "source": [
    "# Unit 5 - Financial Planning"
   ]
  },
  {
   "cell_type": "code",
   "execution_count": 1,
   "metadata": {},
   "outputs": [],
   "source": [
    "# Initial imports\n",
    "import os\n",
    "import requests\n",
    "import json\n",
    "import pandas as pd\n",
    "from dotenv import load_dotenv\n",
    "import alpaca_trade_api as tradeapi\n",
    "from MCForecastTools import MCSimulation\n",
    "\n",
    "%matplotlib inline"
   ]
  },
  {
   "cell_type": "code",
   "execution_count": 2,
   "metadata": {},
   "outputs": [
    {
     "data": {
      "text/plain": [
       "True"
      ]
     },
     "execution_count": 2,
     "metadata": {},
     "output_type": "execute_result"
    }
   ],
   "source": [
    "# Load .env enviroment variables\n",
    "load_dotenv()"
   ]
  },
  {
   "cell_type": "markdown",
   "metadata": {},
   "source": [
    "## Part 1 - Personal Finance Planner"
   ]
  },
  {
   "cell_type": "markdown",
   "metadata": {},
   "source": [
    "### Collect Crypto Prices Using the `requests` Library"
   ]
  },
  {
   "cell_type": "code",
   "execution_count": 3,
   "metadata": {},
   "outputs": [],
   "source": [
    "# Set current amount of crypto assets\n",
    "my_btc = 1.2\n",
    "my_eth = 5.3"
   ]
  },
  {
   "cell_type": "code",
   "execution_count": 4,
   "metadata": {},
   "outputs": [],
   "source": [
    "# Crypto API URLs\n",
    "btc_url = \"https://api.alternative.me/v2/ticker/Bitcoin/?convert=CAD\"\n",
    "eth_url = \"https://api.alternative.me/v2/ticker/Ethereum/?convert=CAD\""
   ]
  },
  {
   "cell_type": "code",
   "execution_count": 5,
   "metadata": {},
   "outputs": [
    {
     "name": "stdout",
     "output_type": "stream",
     "text": [
      "The current market price of BTC is $55188.79\n",
      "The current market price of ETH is $3870.45\n"
     ]
    }
   ],
   "source": [
    "# Fetch current BTC price\n",
    " \n",
    "btc_response_data = requests.get(btc_url).json()\n",
    "#print(json.dumps(btc_response_data, indent=4))\n",
    "\n",
    "# Fetch current ETH price\n",
    "eth_response_data = requests.get(eth_url).json()\n",
    "#print(json.dumps(eth_response_data, indent=4))\n",
    "\n",
    "# Compute current value of my crpto\n",
    "# YOUR CODE HERE!\n",
    "btc_current_value = btc_response_data[\"data\"][\"1\"][\"quotes\"][\"CAD\"][\"price\"]\n",
    "#print(btc_current_value)\n",
    "eth_current_value = eth_response_data[\"data\"][\"1027\"][\"quotes\"][\"CAD\"][\"price\"]\n",
    "#print(eth_current_value)\n",
    "\n",
    "print(f\"The current market price of BTC is ${btc_current_value:0.2f}\")\n",
    "print(f\"The current market price of ETH is ${eth_current_value:0.2f}\")"
   ]
  },
  {
   "cell_type": "code",
   "execution_count": 6,
   "metadata": {},
   "outputs": [
    {
     "name": "stdout",
     "output_type": "stream",
     "text": [
      "The current value of your 1.2 BTC is $66226.55\n",
      "The current value of your 5.3 ETH is $20513.36\n",
      "Total value of your crypto wallet is:  $86739.91\n"
     ]
    }
   ],
   "source": [
    "# Print current crypto wallet balance\n",
    "my_btc_value = my_btc * btc_current_value \n",
    "my_eth_value = my_eth * eth_current_value \n",
    "\n",
    "#total crypto wallet balance \n",
    "\n",
    "total_crypto_balance = my_btc_value + my_eth_value\n",
    "print(f\"The current value of your {my_btc} BTC is ${my_btc_value:0.2f}\")\n",
    "print(f\"The current value of your {my_eth} ETH is ${my_eth_value:0.2f}\")\n",
    "print(f\"Total value of your crypto wallet is:  ${total_crypto_balance:0.2f}\")"
   ]
  },
  {
   "cell_type": "markdown",
   "metadata": {},
   "source": [
    "### Collect Investments Data Using Alpaca: `SPY` (stocks) and `AGG` (bonds)"
   ]
  },
  {
   "cell_type": "code",
   "execution_count": 7,
   "metadata": {},
   "outputs": [],
   "source": [
    "# Set current amount of shares\n",
    "my_agg = 200\n",
    "my_spy = 50"
   ]
  },
  {
   "cell_type": "code",
   "execution_count": 8,
   "metadata": {},
   "outputs": [
    {
     "name": "stdout",
     "output_type": "stream",
     "text": [
      "Alpaca Key type: <class 'str'>\n",
      "Alpaca Secret Key type: <class 'str'>\n"
     ]
    }
   ],
   "source": [
    "# Set Alpaca API key and secret key\n",
    "alpaca_api_key = os.getenv(\"ALPACA_API_KEY\")\n",
    "alpaca_secret_key = os.getenv(\"ALPACA_SECRET_KEY\")\n",
    "print(f\"Alpaca Key type: {type(alpaca_api_key)}\")\n",
    "print(f\"Alpaca Secret Key type: {type(alpaca_secret_key)}\")\n",
    "\n",
    "# Create the Alpaca API object\n",
    "alpaca = tradeapi.REST(\n",
    "    alpaca_api_key,\n",
    "    alpaca_secret_key,\n",
    "    api_version=\"v2\")\n",
    "\n",
    "#alpaca"
   ]
  },
  {
   "cell_type": "code",
   "execution_count": 9,
   "metadata": {},
   "outputs": [
    {
     "data": {
      "text/html": [
       "<div>\n",
       "<style scoped>\n",
       "    .dataframe tbody tr th:only-of-type {\n",
       "        vertical-align: middle;\n",
       "    }\n",
       "\n",
       "    .dataframe tbody tr th {\n",
       "        vertical-align: top;\n",
       "    }\n",
       "\n",
       "    .dataframe thead tr th {\n",
       "        text-align: left;\n",
       "    }\n",
       "</style>\n",
       "<table border=\"1\" class=\"dataframe\">\n",
       "  <thead>\n",
       "    <tr>\n",
       "      <th></th>\n",
       "      <th colspan=\"5\" halign=\"left\">AGG</th>\n",
       "      <th colspan=\"5\" halign=\"left\">SPY</th>\n",
       "    </tr>\n",
       "    <tr>\n",
       "      <th></th>\n",
       "      <th>open</th>\n",
       "      <th>high</th>\n",
       "      <th>low</th>\n",
       "      <th>close</th>\n",
       "      <th>volume</th>\n",
       "      <th>open</th>\n",
       "      <th>high</th>\n",
       "      <th>low</th>\n",
       "      <th>close</th>\n",
       "      <th>volume</th>\n",
       "    </tr>\n",
       "  </thead>\n",
       "  <tbody>\n",
       "    <tr>\n",
       "      <th>2020-04-27</th>\n",
       "      <td>117.21</td>\n",
       "      <td>117.3600</td>\n",
       "      <td>116.8200</td>\n",
       "      <td>116.84</td>\n",
       "      <td>6707494</td>\n",
       "      <td>285.12</td>\n",
       "      <td>288.2700</td>\n",
       "      <td>284.62</td>\n",
       "      <td>287.11</td>\n",
       "      <td>135955115</td>\n",
       "    </tr>\n",
       "    <tr>\n",
       "      <th>2020-04-28</th>\n",
       "      <td>117.27</td>\n",
       "      <td>117.4500</td>\n",
       "      <td>117.1200</td>\n",
       "      <td>117.25</td>\n",
       "      <td>10729690</td>\n",
       "      <td>291.02</td>\n",
       "      <td>291.4000</td>\n",
       "      <td>285.40</td>\n",
       "      <td>285.77</td>\n",
       "      <td>192772205</td>\n",
       "    </tr>\n",
       "    <tr>\n",
       "      <th>2020-04-29</th>\n",
       "      <td>117.29</td>\n",
       "      <td>117.4800</td>\n",
       "      <td>117.2000</td>\n",
       "      <td>117.43</td>\n",
       "      <td>9036494</td>\n",
       "      <td>291.53</td>\n",
       "      <td>294.8800</td>\n",
       "      <td>290.41</td>\n",
       "      <td>293.19</td>\n",
       "      <td>204606690</td>\n",
       "    </tr>\n",
       "    <tr>\n",
       "      <th>2020-04-30</th>\n",
       "      <td>117.38</td>\n",
       "      <td>117.4900</td>\n",
       "      <td>117.0650</td>\n",
       "      <td>117.15</td>\n",
       "      <td>13756340</td>\n",
       "      <td>291.71</td>\n",
       "      <td>293.3239</td>\n",
       "      <td>288.59</td>\n",
       "      <td>290.39</td>\n",
       "      <td>204197726</td>\n",
       "    </tr>\n",
       "    <tr>\n",
       "      <th>2020-05-01</th>\n",
       "      <td>116.97</td>\n",
       "      <td>117.0998</td>\n",
       "      <td>116.6775</td>\n",
       "      <td>116.90</td>\n",
       "      <td>11778582</td>\n",
       "      <td>285.31</td>\n",
       "      <td>290.6572</td>\n",
       "      <td>281.52</td>\n",
       "      <td>282.73</td>\n",
       "      <td>222309009</td>\n",
       "    </tr>\n",
       "  </tbody>\n",
       "</table>\n",
       "</div>"
      ],
      "text/plain": [
       "               AGG                                           SPY            \\\n",
       "              open      high       low   close    volume    open      high   \n",
       "2020-04-27  117.21  117.3600  116.8200  116.84   6707494  285.12  288.2700   \n",
       "2020-04-28  117.27  117.4500  117.1200  117.25  10729690  291.02  291.4000   \n",
       "2020-04-29  117.29  117.4800  117.2000  117.43   9036494  291.53  294.8800   \n",
       "2020-04-30  117.38  117.4900  117.0650  117.15  13756340  291.71  293.3239   \n",
       "2020-05-01  116.97  117.0998  116.6775  116.90  11778582  285.31  290.6572   \n",
       "\n",
       "                                       \n",
       "               low   close     volume  \n",
       "2020-04-27  284.62  287.11  135955115  \n",
       "2020-04-28  285.40  285.77  192772205  \n",
       "2020-04-29  290.41  293.19  204606690  \n",
       "2020-04-30  288.59  290.39  204197726  \n",
       "2020-05-01  281.52  282.73  222309009  "
      ]
     },
     "execution_count": 9,
     "metadata": {},
     "output_type": "execute_result"
    }
   ],
   "source": [
    "# Format current date as ISO format\n",
    "today = pd.Timestamp(\"2016-09-20\", tz=\"America/New_York\").isoformat()\n",
    "end_today = pd.Timestamp(\"2020-05-01\", tz=\"America/New_York\").isoformat()\n",
    "# Set the tickers\n",
    "tickers = [\"AGG\", \"SPY\"]\n",
    "\n",
    "# Set timeframe to '1D' for Alpaca API\n",
    "timeframe = \"1D\"\n",
    "\n",
    "# Get current closing prices for SPY and AGG\n",
    "# (use a limit=1000 parameter to call the most recent 1000 days of data)\n",
    "df_Investments = alpaca.get_barset(\n",
    "    tickers,\n",
    "    timeframe,\n",
    "    start = today,\n",
    "    end= end_today,\n",
    "    limit=1000).df\n",
    "\n",
    "df_Investments.dropna(inplace=True)\n",
    "# Drop the time component of the date\n",
    "df_Investments.index = df_Investments.index.date\n",
    "# Preview DataFrame\n",
    "df_Investments.tail()\n",
    "\n",
    " "
   ]
  },
  {
   "cell_type": "code",
   "execution_count": 10,
   "metadata": {},
   "outputs": [
    {
     "name": "stdout",
     "output_type": "stream",
     "text": [
      "Current AGG closing price: CAD $116.90\n",
      "Current SPY closing price: CAD $282.73\n"
     ]
    }
   ],
   "source": [
    "# Pick AGG and SPY close prices\n",
    "agg_close_price = df_Investments[\"AGG\"][\"close\"].iloc[-1]\n",
    "                                                \n",
    "spy_close_price = df_Investments[\"SPY\"][\"close\"].iloc[-1]\n",
    "\n",
    "# Print AGG and SPY close prices\n",
    "print(f\"Current AGG closing price: CAD ${agg_close_price:0.2f}\")\n",
    "print(f\"Current SPY closing price: CAD ${spy_close_price:0.2f}\")\n"
   ]
  },
  {
   "cell_type": "code",
   "execution_count": 11,
   "metadata": {},
   "outputs": [
    {
     "name": "stdout",
     "output_type": "stream",
     "text": [
      "The current value of your 50 SPY shares is $14136.50\n",
      "The current value of your 200 AGG shares is $23380.00\n",
      "Total value of your stock investments is:  $37516.50\n"
     ]
    }
   ],
   "source": [
    "# Compute the current value of shares\n",
    "my_spy_value = my_spy * spy_close_price\n",
    "my_agg_value = my_agg * agg_close_price\n",
    "total_investments = my_spy_value + my_agg_value\n",
    "# Print current value of shares\n",
    "print(f\"The current value of your {my_spy} SPY shares is ${my_spy_value:0.2f}\")\n",
    "print(f\"The current value of your {my_agg} AGG shares is ${my_agg_value:0.2f}\")\n",
    "print(f\"Total value of your stock investments is:  ${total_investments:0.2f}\")"
   ]
  },
  {
   "cell_type": "markdown",
   "metadata": {},
   "source": [
    "### Savings Health Analysis"
   ]
  },
  {
   "cell_type": "code",
   "execution_count": 12,
   "metadata": {},
   "outputs": [],
   "source": [
    "# Set monthly household income\n",
    "monthly_income=12000"
   ]
  },
  {
   "cell_type": "code",
   "execution_count": 13,
   "metadata": {},
   "outputs": [],
   "source": [
    "# Consolidate financial assets data\n"
   ]
  },
  {
   "cell_type": "code",
   "execution_count": 14,
   "metadata": {},
   "outputs": [
    {
     "data": {
      "text/html": [
       "<div>\n",
       "<style scoped>\n",
       "    .dataframe tbody tr th:only-of-type {\n",
       "        vertical-align: middle;\n",
       "    }\n",
       "\n",
       "    .dataframe tbody tr th {\n",
       "        vertical-align: top;\n",
       "    }\n",
       "\n",
       "    .dataframe thead th {\n",
       "        text-align: right;\n",
       "    }\n",
       "</style>\n",
       "<table border=\"1\" class=\"dataframe\">\n",
       "  <thead>\n",
       "    <tr style=\"text-align: right;\">\n",
       "      <th></th>\n",
       "      <th>amount</th>\n",
       "    </tr>\n",
       "  </thead>\n",
       "  <tbody>\n",
       "    <tr>\n",
       "      <th>crypto</th>\n",
       "      <td>86739.907907</td>\n",
       "    </tr>\n",
       "    <tr>\n",
       "      <th>shares</th>\n",
       "      <td>37516.500000</td>\n",
       "    </tr>\n",
       "  </tbody>\n",
       "</table>\n",
       "</div>"
      ],
      "text/plain": [
       "              amount\n",
       "crypto  86739.907907\n",
       "shares  37516.500000"
      ]
     },
     "metadata": {},
     "output_type": "display_data"
    }
   ],
   "source": [
    "# Create savings DataFrame\n",
    "dict_savings = {'amount': [total_crypto_balance, total_investments]}\n",
    "index_list = ['crypto', 'shares']\n",
    "df_savings = pd.DataFrame(data=dict_savings, index=index_list)\n",
    "\n",
    "# Display savings DataFrame\n",
    "display(df_savings)"
   ]
  },
  {
   "cell_type": "code",
   "execution_count": 15,
   "metadata": {},
   "outputs": [
    {
     "data": {
      "image/png": "[encoded data removed]",
      "text/plain": [
       "<Figure size 360x360 with 1 Axes>"
      ]
     },
     "metadata": {},
     "output_type": "display_data"
    }
   ],
   "source": [
    "# Plot savings pie chart\n",
    "plot = df_savings.plot.pie(y='amount', figsize=(5, 5))"
   ]
  },
  {
   "cell_type": "code",
   "execution_count": 16,
   "metadata": {},
   "outputs": [
    {
     "name": "stdout",
     "output_type": "stream",
     "text": [
      "Combined balance with Crypto and Investments: $37516.50\n",
      "Congratulations! You have enough money in this fund\n"
     ]
    }
   ],
   "source": [
    "# Set ideal emergency fund\n",
    "emergency_fund = monthly_income * 3\n",
    "#print(emergency_fund)\n",
    "\n",
    "# Calculate total amount of savings\n",
    "combined_total_balance = total_crypto_balance + total_investments\n",
    "print(f\"Combined balance with Crypto and Investments: ${total_investments:0.2f}\")\n",
    "\n",
    "# Validate saving health\n",
    "if combined_total_balance > emergency_fund:\n",
    "    print(\"Congratulations! You have enough money in this fund\")\n",
    "elif combined_total_balance == emergency_fund:\n",
    "        print(\"congratulating the person on reaching this financial goal.\")\n",
    "else:\n",
    "     dollars_away = emergency_fund - combined_total_balance \n",
    "     print(f\"Error: not enough funds! However, you are ${dollars_away:0.2f} from your financial goal\")"
   ]
  },
  {
   "cell_type": "markdown",
   "metadata": {},
   "source": [
    "## Part 2 - Retirement Planning\n",
    "\n",
    "### Monte Carlo Simulation"
   ]
  },
  {
   "cell_type": "code",
   "execution_count": 17,
   "metadata": {},
   "outputs": [],
   "source": [
    "# Set start and end dates of five years back from today.\n",
    "# Sample results may vary from the solution based on the time frame chosen\n",
    "#start_date = pd.Timestamp('2016-05-01', tz='America/New_York').isoformat()\n",
    "#end_date = pd.Timestamp('2021-05-01', tz='America/New_York').isoformat()"
   ]
  },
  {
   "cell_type": "code",
   "execution_count": 33,
   "metadata": {
    "scrolled": true
   },
   "outputs": [
    {
     "data": {
      "text/html": [
       "<div>\n",
       "<style scoped>\n",
       "    .dataframe tbody tr th:only-of-type {\n",
       "        vertical-align: middle;\n",
       "    }\n",
       "\n",
       "    .dataframe tbody tr th {\n",
       "        vertical-align: top;\n",
       "    }\n",
       "\n",
       "    .dataframe thead tr th {\n",
       "        text-align: left;\n",
       "    }\n",
       "</style>\n",
       "<table border=\"1\" class=\"dataframe\">\n",
       "  <thead>\n",
       "    <tr>\n",
       "      <th></th>\n",
       "      <th colspan=\"5\" halign=\"left\">AGG</th>\n",
       "      <th colspan=\"5\" halign=\"left\">SPY</th>\n",
       "    </tr>\n",
       "    <tr>\n",
       "      <th></th>\n",
       "      <th>open</th>\n",
       "      <th>high</th>\n",
       "      <th>low</th>\n",
       "      <th>close</th>\n",
       "      <th>volume</th>\n",
       "      <th>open</th>\n",
       "      <th>high</th>\n",
       "      <th>low</th>\n",
       "      <th>close</th>\n",
       "      <th>volume</th>\n",
       "    </tr>\n",
       "  </thead>\n",
       "  <tbody>\n",
       "    <tr>\n",
       "      <th>2017-05-11</th>\n",
       "      <td>108.35</td>\n",
       "      <td>108.540</td>\n",
       "      <td>108.3435</td>\n",
       "      <td>108.515</td>\n",
       "      <td>1773499.0</td>\n",
       "      <td>239.35</td>\n",
       "      <td>239.57</td>\n",
       "      <td>238.13</td>\n",
       "      <td>239.410</td>\n",
       "      <td>45435690.0</td>\n",
       "    </tr>\n",
       "    <tr>\n",
       "      <th>2017-05-12</th>\n",
       "      <td>108.81</td>\n",
       "      <td>108.940</td>\n",
       "      <td>108.7800</td>\n",
       "      <td>108.920</td>\n",
       "      <td>1136553.0</td>\n",
       "      <td>239.09</td>\n",
       "      <td>239.21</td>\n",
       "      <td>238.67</td>\n",
       "      <td>239.030</td>\n",
       "      <td>35283567.0</td>\n",
       "    </tr>\n",
       "    <tr>\n",
       "      <th>2017-05-15</th>\n",
       "      <td>108.85</td>\n",
       "      <td>108.940</td>\n",
       "      <td>108.8200</td>\n",
       "      <td>108.890</td>\n",
       "      <td>1620264.0</td>\n",
       "      <td>239.47</td>\n",
       "      <td>240.44</td>\n",
       "      <td>239.45</td>\n",
       "      <td>240.245</td>\n",
       "      <td>42230620.0</td>\n",
       "    </tr>\n",
       "    <tr>\n",
       "      <th>2017-05-16</th>\n",
       "      <td>108.88</td>\n",
       "      <td>109.101</td>\n",
       "      <td>108.8800</td>\n",
       "      <td>109.000</td>\n",
       "      <td>1394153.0</td>\n",
       "      <td>240.62</td>\n",
       "      <td>240.67</td>\n",
       "      <td>239.63</td>\n",
       "      <td>240.100</td>\n",
       "      <td>37206183.0</td>\n",
       "    </tr>\n",
       "    <tr>\n",
       "      <th>2017-05-17</th>\n",
       "      <td>109.35</td>\n",
       "      <td>109.600</td>\n",
       "      <td>109.2800</td>\n",
       "      <td>109.560</td>\n",
       "      <td>2263851.0</td>\n",
       "      <td>238.10</td>\n",
       "      <td>238.64</td>\n",
       "      <td>235.75</td>\n",
       "      <td>235.850</td>\n",
       "      <td>118613594.0</td>\n",
       "    </tr>\n",
       "  </tbody>\n",
       "</table>\n",
       "</div>"
      ],
      "text/plain": [
       "               AGG                                            SPY          \\\n",
       "              open     high       low    close     volume    open    high   \n",
       "2017-05-11  108.35  108.540  108.3435  108.515  1773499.0  239.35  239.57   \n",
       "2017-05-12  108.81  108.940  108.7800  108.920  1136553.0  239.09  239.21   \n",
       "2017-05-15  108.85  108.940  108.8200  108.890  1620264.0  239.47  240.44   \n",
       "2017-05-16  108.88  109.101  108.8800  109.000  1394153.0  240.62  240.67   \n",
       "2017-05-17  109.35  109.600  109.2800  109.560  2263851.0  238.10  238.64   \n",
       "\n",
       "                                          \n",
       "               low    close       volume  \n",
       "2017-05-11  238.13  239.410   45435690.0  \n",
       "2017-05-12  238.67  239.030   35283567.0  \n",
       "2017-05-15  239.45  240.245   42230620.0  \n",
       "2017-05-16  239.63  240.100   37206183.0  \n",
       "2017-05-17  235.75  235.850  118613594.0  "
      ]
     },
     "execution_count": 33,
     "metadata": {},
     "output_type": "execute_result"
    }
   ],
   "source": [
    "# Get 5 years' worth of historical data for SPY and AGG\n",
    "# Format current date as ISO format\n",
    "start_today = pd.Timestamp(\"2016-05-01\", tz=\"America/New_York\").isoformat()\n",
    "stop_today = pd.Timestamp(\"2021-05-01\", tz=\"America/New_York\").isoformat()\n",
    "# Set the tickers\n",
    "tickers = [\"AGG\", \"SPY\"]\n",
    "\n",
    "# Set timeframe to '1D' for Alpaca API\n",
    "timeframe = \"1D\"\n",
    "\n",
    "# Get current closing prices for SPY and AGG\n",
    "# (use a limit=1000 parameter to call the most recent 1000 days of data)\n",
    "df_stock_data = alpaca.get_barset(\n",
    "    tickers,\n",
    "    timeframe,\n",
    "    start = start_today,\n",
    "    end= stop_today,\n",
    "    limit=1000).df\n",
    "\n",
    "df_stock_data.dropna(inplace=True)\n",
    "# Drop the time component of the date\n",
    "df_stock_data.index = df_stock_data.index.date\n",
    "# Preview DataFrame\n",
    "#df_stock_data.tail()\n",
    "\n",
    "# Display sample data\n",
    "df_stock_data.head()"
   ]
  },
  {
   "cell_type": "code",
   "execution_count": 19,
   "metadata": {},
   "outputs": [],
   "source": [
    "# Configuring a Monte Carlo simulation to forecast 30 years cumulative returns\n",
    "MC_thirty_year = MCSimulation(\n",
    "    portfolio_data = df_stock_data,\n",
    "    weights = [.40, .60 ],\n",
    "    num_simulation = 500,\n",
    "    num_trading_days = 252*30\n",
    ")"
   ]
  },
  {
   "cell_type": "code",
   "execution_count": 20,
   "metadata": {},
   "outputs": [
    {
     "data": {
      "text/html": [
       "<div>\n",
       "<style scoped>\n",
       "    .dataframe tbody tr th:only-of-type {\n",
       "        vertical-align: middle;\n",
       "    }\n",
       "\n",
       "    .dataframe tbody tr th {\n",
       "        vertical-align: top;\n",
       "    }\n",
       "\n",
       "    .dataframe thead tr th {\n",
       "        text-align: left;\n",
       "    }\n",
       "</style>\n",
       "<table border=\"1\" class=\"dataframe\">\n",
       "  <thead>\n",
       "    <tr>\n",
       "      <th></th>\n",
       "      <th colspan=\"6\" halign=\"left\">AGG</th>\n",
       "      <th colspan=\"6\" halign=\"left\">SPY</th>\n",
       "    </tr>\n",
       "    <tr>\n",
       "      <th></th>\n",
       "      <th>open</th>\n",
       "      <th>high</th>\n",
       "      <th>low</th>\n",
       "      <th>close</th>\n",
       "      <th>volume</th>\n",
       "      <th>daily_return</th>\n",
       "      <th>open</th>\n",
       "      <th>high</th>\n",
       "      <th>low</th>\n",
       "      <th>close</th>\n",
       "      <th>volume</th>\n",
       "      <th>daily_return</th>\n",
       "    </tr>\n",
       "  </thead>\n",
       "  <tbody>\n",
       "    <tr>\n",
       "      <th>2017-05-11</th>\n",
       "      <td>108.35</td>\n",
       "      <td>108.540</td>\n",
       "      <td>108.3435</td>\n",
       "      <td>108.515</td>\n",
       "      <td>1773499.0</td>\n",
       "      <td>NaN</td>\n",
       "      <td>239.35</td>\n",
       "      <td>239.57</td>\n",
       "      <td>238.13</td>\n",
       "      <td>239.410</td>\n",
       "      <td>45435690.0</td>\n",
       "      <td>NaN</td>\n",
       "    </tr>\n",
       "    <tr>\n",
       "      <th>2017-05-12</th>\n",
       "      <td>108.81</td>\n",
       "      <td>108.940</td>\n",
       "      <td>108.7800</td>\n",
       "      <td>108.920</td>\n",
       "      <td>1136553.0</td>\n",
       "      <td>0.003732</td>\n",
       "      <td>239.09</td>\n",
       "      <td>239.21</td>\n",
       "      <td>238.67</td>\n",
       "      <td>239.030</td>\n",
       "      <td>35283567.0</td>\n",
       "      <td>-0.001587</td>\n",
       "    </tr>\n",
       "    <tr>\n",
       "      <th>2017-05-15</th>\n",
       "      <td>108.85</td>\n",
       "      <td>108.940</td>\n",
       "      <td>108.8200</td>\n",
       "      <td>108.890</td>\n",
       "      <td>1620264.0</td>\n",
       "      <td>-0.000275</td>\n",
       "      <td>239.47</td>\n",
       "      <td>240.44</td>\n",
       "      <td>239.45</td>\n",
       "      <td>240.245</td>\n",
       "      <td>42230620.0</td>\n",
       "      <td>0.005083</td>\n",
       "    </tr>\n",
       "    <tr>\n",
       "      <th>2017-05-16</th>\n",
       "      <td>108.88</td>\n",
       "      <td>109.101</td>\n",
       "      <td>108.8800</td>\n",
       "      <td>109.000</td>\n",
       "      <td>1394153.0</td>\n",
       "      <td>0.001010</td>\n",
       "      <td>240.62</td>\n",
       "      <td>240.67</td>\n",
       "      <td>239.63</td>\n",
       "      <td>240.100</td>\n",
       "      <td>37206183.0</td>\n",
       "      <td>-0.000604</td>\n",
       "    </tr>\n",
       "    <tr>\n",
       "      <th>2017-05-17</th>\n",
       "      <td>109.35</td>\n",
       "      <td>109.600</td>\n",
       "      <td>109.2800</td>\n",
       "      <td>109.560</td>\n",
       "      <td>2263851.0</td>\n",
       "      <td>0.005138</td>\n",
       "      <td>238.10</td>\n",
       "      <td>238.64</td>\n",
       "      <td>235.75</td>\n",
       "      <td>235.850</td>\n",
       "      <td>118613594.0</td>\n",
       "      <td>-0.017701</td>\n",
       "    </tr>\n",
       "  </tbody>\n",
       "</table>\n",
       "</div>"
      ],
      "text/plain": [
       "               AGG                                                      \\\n",
       "              open     high       low    close     volume daily_return   \n",
       "2017-05-11  108.35  108.540  108.3435  108.515  1773499.0          NaN   \n",
       "2017-05-12  108.81  108.940  108.7800  108.920  1136553.0     0.003732   \n",
       "2017-05-15  108.85  108.940  108.8200  108.890  1620264.0    -0.000275   \n",
       "2017-05-16  108.88  109.101  108.8800  109.000  1394153.0     0.001010   \n",
       "2017-05-17  109.35  109.600  109.2800  109.560  2263851.0     0.005138   \n",
       "\n",
       "               SPY                                                     \n",
       "              open    high     low    close       volume daily_return  \n",
       "2017-05-11  239.35  239.57  238.13  239.410   45435690.0          NaN  \n",
       "2017-05-12  239.09  239.21  238.67  239.030   35283567.0    -0.001587  \n",
       "2017-05-15  239.47  240.44  239.45  240.245   42230620.0     0.005083  \n",
       "2017-05-16  240.62  240.67  239.63  240.100   37206183.0    -0.000604  \n",
       "2017-05-17  238.10  238.64  235.75  235.850  118613594.0    -0.017701  "
      ]
     },
     "execution_count": 20,
     "metadata": {},
     "output_type": "execute_result"
    }
   ],
   "source": [
    "# Printing the simulation input data\n",
    "MC_thirty_year.portfolio_data.head()"
   ]
  },
  {
   "cell_type": "code",
   "execution_count": 21,
   "metadata": {},
   "outputs": [
    {
     "name": "stdout",
     "output_type": "stream",
     "text": [
      "Running Monte Carlo simulation number 0.\n",
      "Running Monte Carlo simulation number 10.\n",
      "Running Monte Carlo simulation number 20.\n",
      "Running Monte Carlo simulation number 30.\n",
      "Running Monte Carlo simulation number 40.\n",
      "Running Monte Carlo simulation number 50.\n",
      "Running Monte Carlo simulation number 60.\n",
      "Running Monte Carlo simulation number 70.\n",
      "Running Monte Carlo simulation number 80.\n",
      "Running Monte Carlo simulation number 90.\n",
      "Running Monte Carlo simulation number 100.\n",
      "Running Monte Carlo simulation number 110.\n",
      "Running Monte Carlo simulation number 120.\n",
      "Running Monte Carlo simulation number 130.\n",
      "Running Monte Carlo simulation number 140.\n",
      "Running Monte Carlo simulation number 150.\n",
      "Running Monte Carlo simulation number 160.\n",
      "Running Monte Carlo simulation number 170.\n",
      "Running Monte Carlo simulation number 180.\n",
      "Running Monte Carlo simulation number 190.\n",
      "Running Monte Carlo simulation number 200.\n",
      "Running Monte Carlo simulation number 210.\n",
      "Running Monte Carlo simulation number 220.\n",
      "Running Monte Carlo simulation number 230.\n",
      "Running Monte Carlo simulation number 240.\n",
      "Running Monte Carlo simulation number 250.\n",
      "Running Monte Carlo simulation number 260.\n",
      "Running Monte Carlo simulation number 270.\n",
      "Running Monte Carlo simulation number 280.\n",
      "Running Monte Carlo simulation number 290.\n",
      "Running Monte Carlo simulation number 300.\n",
      "Running Monte Carlo simulation number 310.\n",
      "Running Monte Carlo simulation number 320.\n",
      "Running Monte Carlo simulation number 330.\n",
      "Running Monte Carlo simulation number 340.\n",
      "Running Monte Carlo simulation number 350.\n",
      "Running Monte Carlo simulation number 360.\n",
      "Running Monte Carlo simulation number 370.\n",
      "Running Monte Carlo simulation number 380.\n",
      "Running Monte Carlo simulation number 390.\n",
      "Running Monte Carlo simulation number 400.\n",
      "Running Monte Carlo simulation number 410.\n",
      "Running Monte Carlo simulation number 420.\n",
      "Running Monte Carlo simulation number 430.\n",
      "Running Monte Carlo simulation number 440.\n",
      "Running Monte Carlo simulation number 450.\n",
      "Running Monte Carlo simulation number 460.\n",
      "Running Monte Carlo simulation number 470.\n",
      "Running Monte Carlo simulation number 480.\n",
      "Running Monte Carlo simulation number 490.\n"
     ]
    },
    {
     "data": {
      "text/html": [
       "<div>\n",
       "<style scoped>\n",
       "    .dataframe tbody tr th:only-of-type {\n",
       "        vertical-align: middle;\n",
       "    }\n",
       "\n",
       "    .dataframe tbody tr th {\n",
       "        vertical-align: top;\n",
       "    }\n",
       "\n",
       "    .dataframe thead th {\n",
       "        text-align: right;\n",
       "    }\n",
       "</style>\n",
       "<table border=\"1\" class=\"dataframe\">\n",
       "  <thead>\n",
       "    <tr style=\"text-align: right;\">\n",
       "      <th></th>\n",
       "      <th>0</th>\n",
       "      <th>1</th>\n",
       "      <th>2</th>\n",
       "      <th>3</th>\n",
       "      <th>4</th>\n",
       "      <th>5</th>\n",
       "      <th>6</th>\n",
       "      <th>7</th>\n",
       "      <th>8</th>\n",
       "      <th>9</th>\n",
       "      <th>...</th>\n",
       "      <th>490</th>\n",
       "      <th>491</th>\n",
       "      <th>492</th>\n",
       "      <th>493</th>\n",
       "      <th>494</th>\n",
       "      <th>495</th>\n",
       "      <th>496</th>\n",
       "      <th>497</th>\n",
       "      <th>498</th>\n",
       "      <th>499</th>\n",
       "    </tr>\n",
       "  </thead>\n",
       "  <tbody>\n",
       "    <tr>\n",
       "      <th>0</th>\n",
       "      <td>1.000000</td>\n",
       "      <td>1.000000</td>\n",
       "      <td>1.000000</td>\n",
       "      <td>1.000000</td>\n",
       "      <td>1.000000</td>\n",
       "      <td>1.000000</td>\n",
       "      <td>1.000000</td>\n",
       "      <td>1.000000</td>\n",
       "      <td>1.000000</td>\n",
       "      <td>1.000000</td>\n",
       "      <td>...</td>\n",
       "      <td>1.000000</td>\n",
       "      <td>1.000000</td>\n",
       "      <td>1.000000</td>\n",
       "      <td>1.000000</td>\n",
       "      <td>1.000000</td>\n",
       "      <td>1.000000</td>\n",
       "      <td>1.000000</td>\n",
       "      <td>1.000000</td>\n",
       "      <td>1.000000</td>\n",
       "      <td>1.000000</td>\n",
       "    </tr>\n",
       "    <tr>\n",
       "      <th>1</th>\n",
       "      <td>1.003012</td>\n",
       "      <td>1.012135</td>\n",
       "      <td>1.005983</td>\n",
       "      <td>1.017405</td>\n",
       "      <td>0.999900</td>\n",
       "      <td>1.013919</td>\n",
       "      <td>1.005286</td>\n",
       "      <td>1.019184</td>\n",
       "      <td>1.001093</td>\n",
       "      <td>0.988709</td>\n",
       "      <td>...</td>\n",
       "      <td>1.012410</td>\n",
       "      <td>0.990972</td>\n",
       "      <td>0.995629</td>\n",
       "      <td>0.987897</td>\n",
       "      <td>1.010706</td>\n",
       "      <td>0.998239</td>\n",
       "      <td>1.009666</td>\n",
       "      <td>1.004896</td>\n",
       "      <td>0.993029</td>\n",
       "      <td>1.008385</td>\n",
       "    </tr>\n",
       "    <tr>\n",
       "      <th>2</th>\n",
       "      <td>1.005876</td>\n",
       "      <td>1.021804</td>\n",
       "      <td>1.003040</td>\n",
       "      <td>1.013516</td>\n",
       "      <td>1.021245</td>\n",
       "      <td>1.014720</td>\n",
       "      <td>1.011142</td>\n",
       "      <td>1.014551</td>\n",
       "      <td>0.998558</td>\n",
       "      <td>0.986409</td>\n",
       "      <td>...</td>\n",
       "      <td>1.003846</td>\n",
       "      <td>1.014954</td>\n",
       "      <td>0.992272</td>\n",
       "      <td>0.992922</td>\n",
       "      <td>1.004540</td>\n",
       "      <td>1.001043</td>\n",
       "      <td>1.030972</td>\n",
       "      <td>1.011216</td>\n",
       "      <td>0.997057</td>\n",
       "      <td>1.018942</td>\n",
       "    </tr>\n",
       "    <tr>\n",
       "      <th>3</th>\n",
       "      <td>1.003168</td>\n",
       "      <td>1.035077</td>\n",
       "      <td>0.997908</td>\n",
       "      <td>1.004899</td>\n",
       "      <td>1.034853</td>\n",
       "      <td>1.021723</td>\n",
       "      <td>1.015612</td>\n",
       "      <td>1.012975</td>\n",
       "      <td>0.996449</td>\n",
       "      <td>0.977182</td>\n",
       "      <td>...</td>\n",
       "      <td>1.008020</td>\n",
       "      <td>1.006101</td>\n",
       "      <td>0.998046</td>\n",
       "      <td>0.992219</td>\n",
       "      <td>1.000378</td>\n",
       "      <td>0.997529</td>\n",
       "      <td>1.041596</td>\n",
       "      <td>0.999374</td>\n",
       "      <td>1.005671</td>\n",
       "      <td>1.019999</td>\n",
       "    </tr>\n",
       "    <tr>\n",
       "      <th>4</th>\n",
       "      <td>1.000241</td>\n",
       "      <td>1.039757</td>\n",
       "      <td>1.004709</td>\n",
       "      <td>1.007676</td>\n",
       "      <td>1.030249</td>\n",
       "      <td>1.026476</td>\n",
       "      <td>1.025497</td>\n",
       "      <td>1.000825</td>\n",
       "      <td>1.001396</td>\n",
       "      <td>0.992896</td>\n",
       "      <td>...</td>\n",
       "      <td>1.002560</td>\n",
       "      <td>1.013447</td>\n",
       "      <td>0.968731</td>\n",
       "      <td>0.979482</td>\n",
       "      <td>0.996567</td>\n",
       "      <td>1.002639</td>\n",
       "      <td>1.051077</td>\n",
       "      <td>0.991655</td>\n",
       "      <td>1.009799</td>\n",
       "      <td>1.011009</td>\n",
       "    </tr>\n",
       "    <tr>\n",
       "      <th>...</th>\n",
       "      <td>...</td>\n",
       "      <td>...</td>\n",
       "      <td>...</td>\n",
       "      <td>...</td>\n",
       "      <td>...</td>\n",
       "      <td>...</td>\n",
       "      <td>...</td>\n",
       "      <td>...</td>\n",
       "      <td>...</td>\n",
       "      <td>...</td>\n",
       "      <td>...</td>\n",
       "      <td>...</td>\n",
       "      <td>...</td>\n",
       "      <td>...</td>\n",
       "      <td>...</td>\n",
       "      <td>...</td>\n",
       "      <td>...</td>\n",
       "      <td>...</td>\n",
       "      <td>...</td>\n",
       "      <td>...</td>\n",
       "      <td>...</td>\n",
       "    </tr>\n",
       "    <tr>\n",
       "      <th>7556</th>\n",
       "      <td>13.188529</td>\n",
       "      <td>9.933047</td>\n",
       "      <td>20.340913</td>\n",
       "      <td>9.914938</td>\n",
       "      <td>18.669606</td>\n",
       "      <td>8.609463</td>\n",
       "      <td>26.967869</td>\n",
       "      <td>39.563364</td>\n",
       "      <td>29.787762</td>\n",
       "      <td>17.206955</td>\n",
       "      <td>...</td>\n",
       "      <td>28.727918</td>\n",
       "      <td>12.005991</td>\n",
       "      <td>24.770732</td>\n",
       "      <td>17.042170</td>\n",
       "      <td>41.198658</td>\n",
       "      <td>17.181860</td>\n",
       "      <td>19.352335</td>\n",
       "      <td>11.914060</td>\n",
       "      <td>2.880441</td>\n",
       "      <td>13.976838</td>\n",
       "    </tr>\n",
       "    <tr>\n",
       "      <th>7557</th>\n",
       "      <td>13.214590</td>\n",
       "      <td>10.054793</td>\n",
       "      <td>20.547200</td>\n",
       "      <td>10.090427</td>\n",
       "      <td>18.746783</td>\n",
       "      <td>8.586266</td>\n",
       "      <td>27.032774</td>\n",
       "      <td>39.736893</td>\n",
       "      <td>29.734631</td>\n",
       "      <td>17.224666</td>\n",
       "      <td>...</td>\n",
       "      <td>28.797850</td>\n",
       "      <td>12.065064</td>\n",
       "      <td>24.865572</td>\n",
       "      <td>17.149174</td>\n",
       "      <td>41.863004</td>\n",
       "      <td>17.210087</td>\n",
       "      <td>19.438150</td>\n",
       "      <td>11.924442</td>\n",
       "      <td>2.902199</td>\n",
       "      <td>13.926128</td>\n",
       "    </tr>\n",
       "    <tr>\n",
       "      <th>7558</th>\n",
       "      <td>13.282660</td>\n",
       "      <td>9.965001</td>\n",
       "      <td>20.539613</td>\n",
       "      <td>10.039235</td>\n",
       "      <td>18.868629</td>\n",
       "      <td>8.647702</td>\n",
       "      <td>26.967939</td>\n",
       "      <td>40.075135</td>\n",
       "      <td>29.579297</td>\n",
       "      <td>17.197970</td>\n",
       "      <td>...</td>\n",
       "      <td>28.619180</td>\n",
       "      <td>12.118976</td>\n",
       "      <td>24.939258</td>\n",
       "      <td>17.248326</td>\n",
       "      <td>41.738144</td>\n",
       "      <td>17.223953</td>\n",
       "      <td>19.422838</td>\n",
       "      <td>11.983049</td>\n",
       "      <td>2.918967</td>\n",
       "      <td>13.947317</td>\n",
       "    </tr>\n",
       "    <tr>\n",
       "      <th>7559</th>\n",
       "      <td>13.347305</td>\n",
       "      <td>10.036523</td>\n",
       "      <td>20.472581</td>\n",
       "      <td>10.100278</td>\n",
       "      <td>18.839657</td>\n",
       "      <td>8.669154</td>\n",
       "      <td>27.093342</td>\n",
       "      <td>40.222786</td>\n",
       "      <td>29.764224</td>\n",
       "      <td>17.100536</td>\n",
       "      <td>...</td>\n",
       "      <td>28.548377</td>\n",
       "      <td>12.144226</td>\n",
       "      <td>25.173702</td>\n",
       "      <td>17.352272</td>\n",
       "      <td>41.999436</td>\n",
       "      <td>17.229908</td>\n",
       "      <td>19.337525</td>\n",
       "      <td>11.982402</td>\n",
       "      <td>2.912647</td>\n",
       "      <td>13.993638</td>\n",
       "    </tr>\n",
       "    <tr>\n",
       "      <th>7560</th>\n",
       "      <td>13.460400</td>\n",
       "      <td>10.014052</td>\n",
       "      <td>20.691790</td>\n",
       "      <td>10.168088</td>\n",
       "      <td>18.997739</td>\n",
       "      <td>8.616458</td>\n",
       "      <td>27.237902</td>\n",
       "      <td>39.857360</td>\n",
       "      <td>29.636208</td>\n",
       "      <td>17.457182</td>\n",
       "      <td>...</td>\n",
       "      <td>28.609219</td>\n",
       "      <td>12.041079</td>\n",
       "      <td>25.191316</td>\n",
       "      <td>17.510149</td>\n",
       "      <td>41.535334</td>\n",
       "      <td>17.207295</td>\n",
       "      <td>19.468311</td>\n",
       "      <td>12.007042</td>\n",
       "      <td>2.943499</td>\n",
       "      <td>14.126771</td>\n",
       "    </tr>\n",
       "  </tbody>\n",
       "</table>\n",
       "<p>7561 rows × 500 columns</p>\n",
       "</div>"
      ],
      "text/plain": [
       "            0          1          2          3          4         5    \\\n",
       "0      1.000000   1.000000   1.000000   1.000000   1.000000  1.000000   \n",
       "1      1.003012   1.012135   1.005983   1.017405   0.999900  1.013919   \n",
       "2      1.005876   1.021804   1.003040   1.013516   1.021245  1.014720   \n",
       "3      1.003168   1.035077   0.997908   1.004899   1.034853  1.021723   \n",
       "4      1.000241   1.039757   1.004709   1.007676   1.030249  1.026476   \n",
       "...         ...        ...        ...        ...        ...       ...   \n",
       "7556  13.188529   9.933047  20.340913   9.914938  18.669606  8.609463   \n",
       "7557  13.214590  10.054793  20.547200  10.090427  18.746783  8.586266   \n",
       "7558  13.282660   9.965001  20.539613  10.039235  18.868629  8.647702   \n",
       "7559  13.347305  10.036523  20.472581  10.100278  18.839657  8.669154   \n",
       "7560  13.460400  10.014052  20.691790  10.168088  18.997739  8.616458   \n",
       "\n",
       "            6          7          8          9    ...        490        491  \\\n",
       "0      1.000000   1.000000   1.000000   1.000000  ...   1.000000   1.000000   \n",
       "1      1.005286   1.019184   1.001093   0.988709  ...   1.012410   0.990972   \n",
       "2      1.011142   1.014551   0.998558   0.986409  ...   1.003846   1.014954   \n",
       "3      1.015612   1.012975   0.996449   0.977182  ...   1.008020   1.006101   \n",
       "4      1.025497   1.000825   1.001396   0.992896  ...   1.002560   1.013447   \n",
       "...         ...        ...        ...        ...  ...        ...        ...   \n",
       "7556  26.967869  39.563364  29.787762  17.206955  ...  28.727918  12.005991   \n",
       "7557  27.032774  39.736893  29.734631  17.224666  ...  28.797850  12.065064   \n",
       "7558  26.967939  40.075135  29.579297  17.197970  ...  28.619180  12.118976   \n",
       "7559  27.093342  40.222786  29.764224  17.100536  ...  28.548377  12.144226   \n",
       "7560  27.237902  39.857360  29.636208  17.457182  ...  28.609219  12.041079   \n",
       "\n",
       "            492        493        494        495        496        497  \\\n",
       "0      1.000000   1.000000   1.000000   1.000000   1.000000   1.000000   \n",
       "1      0.995629   0.987897   1.010706   0.998239   1.009666   1.004896   \n",
       "2      0.992272   0.992922   1.004540   1.001043   1.030972   1.011216   \n",
       "3      0.998046   0.992219   1.000378   0.997529   1.041596   0.999374   \n",
       "4      0.968731   0.979482   0.996567   1.002639   1.051077   0.991655   \n",
       "...         ...        ...        ...        ...        ...        ...   \n",
       "7556  24.770732  17.042170  41.198658  17.181860  19.352335  11.914060   \n",
       "7557  24.865572  17.149174  41.863004  17.210087  19.438150  11.924442   \n",
       "7558  24.939258  17.248326  41.738144  17.223953  19.422838  11.983049   \n",
       "7559  25.173702  17.352272  41.999436  17.229908  19.337525  11.982402   \n",
       "7560  25.191316  17.510149  41.535334  17.207295  19.468311  12.007042   \n",
       "\n",
       "           498        499  \n",
       "0     1.000000   1.000000  \n",
       "1     0.993029   1.008385  \n",
       "2     0.997057   1.018942  \n",
       "3     1.005671   1.019999  \n",
       "4     1.009799   1.011009  \n",
       "...        ...        ...  \n",
       "7556  2.880441  13.976838  \n",
       "7557  2.902199  13.926128  \n",
       "7558  2.918967  13.947317  \n",
       "7559  2.912647  13.993638  \n",
       "7560  2.943499  14.126771  \n",
       "\n",
       "[7561 rows x 500 columns]"
      ]
     },
     "execution_count": 21,
     "metadata": {},
     "output_type": "execute_result"
    }
   ],
   "source": [
    "# Running a Monte Carlo simulation to forecast 30 years cumulative returns\n",
    "MC_thirty_year.calc_cumulative_return()"
   ]
  },
  {
   "cell_type": "code",
   "execution_count": 22,
   "metadata": {},
   "outputs": [
    {
     "data": {
      "image/png": "[encoded data removed]",
      "text/plain": [
       "<Figure size 432x288 with 1 Axes>"
      ]
     },
     "metadata": {
      "needs_background": "light"
     },
     "output_type": "display_data"
    }
   ],
   "source": [
    "# Plot simulation outcomes\n",
    "line_plot = MC_thirty_year.plot_simulation()\n",
    "# Save the plot for future usage\n",
    "line_plot.get_figure().savefig(\"MC_thirty_year.png\", bbox_inches=\"tight\")"
   ]
  },
  {
   "cell_type": "code",
   "execution_count": 23,
   "metadata": {},
   "outputs": [
    {
     "data": {
      "image/png": "[encoded data removed]",
      "text/plain": [
       "<Figure size 432x288 with 1 Axes>"
      ]
     },
     "metadata": {
      "needs_background": "light"
     },
     "output_type": "display_data"
    }
   ],
   "source": [
    "# Plot probability distribution and confidence intervals\n",
    "dist_plot = MC_thirty_year.plot_distribution()"
   ]
  },
  {
   "cell_type": "markdown",
   "metadata": {},
   "source": [
    "### Retirement Analysis"
   ]
  },
  {
   "cell_type": "code",
   "execution_count": 24,
   "metadata": {},
   "outputs": [
    {
     "name": "stdout",
     "output_type": "stream",
     "text": [
      "count           500.000000\n",
      "mean             21.977704\n",
      "std              17.298564\n",
      "min               2.362835\n",
      "25%              11.323715\n",
      "50%              17.565060\n",
      "75%              26.406681\n",
      "max             154.686006\n",
      "95% CI Lower      3.922334\n",
      "95% CI Upper     61.244370\n",
      "Name: 7560, dtype: float64\n"
     ]
    }
   ],
   "source": [
    "# Fetch summary statistics from the Monte Carlo simulation results\n",
    "tbl = MC_thirty_year.summarize_cumulative_return()\n",
    "\n",
    "# Print summary statistics\n",
    "print(tbl)"
   ]
  },
  {
   "cell_type": "markdown",
   "metadata": {},
   "source": [
    "### Calculate the expected portfolio return at the `95%` lower and upper confidence intervals based on a `$20,000` initial investment."
   ]
  },
  {
   "cell_type": "code",
   "execution_count": 25,
   "metadata": {},
   "outputs": [
    {
     "name": "stdout",
     "output_type": "stream",
     "text": [
      "There is a 95% chance that an initial investment of $20000 in the portfolio over the next 30 years will end within in the range of $78446.68 and $1224887.4\n"
     ]
    }
   ],
   "source": [
    "# Set initial investment\n",
    "initial_investment = 20000\n",
    "\n",
    "# Use the lower and upper `95%` confidence intervals to calculate the range of the possible outcomes of our $20,000\n",
    "ci_lower = round(tbl[8]*initial_investment,2)\n",
    "ci_upper = round(tbl[9]*initial_investment,2)\n",
    "\n",
    "# Print results\n",
    "print(f\"There is a 95% chance that an initial investment of ${initial_investment} in the portfolio\"\n",
    "      f\" over the next 30 years will end within in the range of\"\n",
    "      f\" ${ci_lower} and ${ci_upper}\")"
   ]
  },
  {
   "cell_type": "markdown",
   "metadata": {},
   "source": [
    "### Calculate the expected portfolio return at the `95%` lower and upper confidence intervals based on a `50%` increase in the initial investment."
   ]
  },
  {
   "cell_type": "code",
   "execution_count": 26,
   "metadata": {},
   "outputs": [
    {
     "name": "stdout",
     "output_type": "stream",
     "text": [
      "There is a 95% chance that an initial investment of $30000.0 in the portfolio over the next 30 years will end within in the range of $117670.02 and $1837331.1\n"
     ]
    }
   ],
   "source": [
    "# Set initial investment\n",
    "initial_investment = 20000 * 1.5\n",
    "\n",
    "# Use the lower and upper `95%` confidence intervals to calculate the range of the possible outcomes of our $30,000\n",
    "ci_lower = round(tbl[8]*initial_investment,2)\n",
    "ci_upper = round(tbl[9]*initial_investment,2)\n",
    "\n",
    "# Print results\n",
    "print(f\"There is a 95% chance that an initial investment of ${initial_investment} in the portfolio\"\n",
    "      f\" over the next 30 years will end within in the range of\"\n",
    "      f\" ${ci_lower} and ${ci_upper}\")"
   ]
  },
  {
   "cell_type": "markdown",
   "metadata": {},
   "source": [
    "## Optional Challenge - Early Retirement\n",
    "\n",
    "\n",
    "### Five Years Retirement Option"
   ]
  },
  {
   "cell_type": "code",
   "execution_count": 27,
   "metadata": {},
   "outputs": [],
   "source": [
    "# Configuring a Monte Carlo simulation to forecast 5 years cumulative returns\n",
    "# YOUR CODE HERE!"
   ]
  },
  {
   "cell_type": "code",
   "execution_count": 28,
   "metadata": {},
   "outputs": [],
   "source": [
    "# Running a Monte Carlo simulation to forecast 5 years cumulative returns\n",
    "# YOUR CODE HERE!"
   ]
  },
  {
   "cell_type": "code",
   "execution_count": 29,
   "metadata": {},
   "outputs": [],
   "source": [
    "# Plot simulation outcomes\n",
    "# YOUR CODE HERE!"
   ]
  },
  {
   "cell_type": "code",
   "execution_count": 30,
   "metadata": {},
   "outputs": [],
   "source": [
    "# Plot probability distribution and confidence intervals\n",
    "# YOUR CODE HERE!"
   ]
  },
  {
   "cell_type": "code",
   "execution_count": 31,
   "metadata": {},
   "outputs": [],
   "source": [
    "# Fetch summary statistics from the Monte Carlo simulation results\n",
    "# YOUR CODE HERE!\n",
    "\n",
    "# Print summary statistics\n",
    "# YOUR CODE HERE!"
   ]
  },
  {
   "cell_type": "code",
   "execution_count": 32,
   "metadata": {},
   "outputs": [
    {
     "ename": "NameError",
     "evalue": "name 'ci_lower_five' is not defined",
     "output_type": "error",
     "traceback": [
      "\u001b[1;31m---------------------------------------------------------------------------\u001b[0m",
      "\u001b[1;31mNameError\u001b[0m                                 Traceback (most recent call last)",
      "\u001b[1;32m<ipython-input-32-d56b774f48d0>\u001b[0m in \u001b[0;36m<module>\u001b[1;34m\u001b[0m\n\u001b[0;32m      6\u001b[0m \u001b[1;33m\u001b[0m\u001b[0m\n\u001b[0;32m      7\u001b[0m \u001b[1;31m# Print results\u001b[0m\u001b[1;33m\u001b[0m\u001b[1;33m\u001b[0m\u001b[1;33m\u001b[0m\u001b[0m\n\u001b[1;32m----> 8\u001b[1;33m print(f\"There is a 95% chance that an initial investment of ${initial_investment} in the portfolio\"\n\u001b[0m\u001b[0;32m      9\u001b[0m       \u001b[1;34mf\" over the next 5 years will end within in the range of\"\u001b[0m\u001b[1;33m\u001b[0m\u001b[1;33m\u001b[0m\u001b[0m\n\u001b[0;32m     10\u001b[0m       f\" ${ci_lower_five} and ${ci_upper_five}\")\n",
      "\u001b[1;31mNameError\u001b[0m: name 'ci_lower_five' is not defined"
     ]
    }
   ],
   "source": [
    "# Set initial investment\n",
    "# YOUR CODE HERE!\n",
    "\n",
    "# Use the lower and upper `95%` confidence intervals to calculate the range of the possible outcomes of our $60,000\n",
    "# YOUR CODE HERE!\n",
    "\n",
    "# Print results\n",
    "print(f\"There is a 95% chance that an initial investment of ${initial_investment} in the portfolio\"\n",
    "      f\" over the next 5 years will end within in the range of\"\n",
    "      f\" ${ci_lower_five} and ${ci_upper_five}\")"
   ]
  },
  {
   "cell_type": "markdown",
   "metadata": {},
   "source": [
    "### Ten Years Retirement Option"
   ]
  },
  {
   "cell_type": "code",
   "execution_count": null,
   "metadata": {},
   "outputs": [],
   "source": [
    "# Configuring a Monte Carlo simulation to forecast 10 years cumulative returns\n",
    "# YOUR CODE HERE!"
   ]
  },
  {
   "cell_type": "code",
   "execution_count": null,
   "metadata": {},
   "outputs": [],
   "source": [
    "# Running a Monte Carlo simulation to forecast 10 years cumulative returns\n",
    "# YOUR CODE HERE!"
   ]
  },
  {
   "cell_type": "code",
   "execution_count": null,
   "metadata": {},
   "outputs": [],
   "source": [
    "# Plot simulation outcomes\n",
    "# YOUR CODE HERE!"
   ]
  },
  {
   "cell_type": "code",
   "execution_count": null,
   "metadata": {},
   "outputs": [],
   "source": [
    "# Plot probability distribution and confidence intervals\n",
    "# YOUR CODE HERE!"
   ]
  },
  {
   "cell_type": "code",
   "execution_count": null,
   "metadata": {},
   "outputs": [],
   "source": [
    "# Fetch summary statistics from the Monte Carlo simulation results\n",
    "# YOUR CODE HERE!\n",
    "\n",
    "# Print summary statistics\n",
    "# YOUR CODE HERE!"
   ]
  },
  {
   "cell_type": "code",
   "execution_count": null,
   "metadata": {},
   "outputs": [],
   "source": [
    "# Set initial investment\n",
    "# YOUR CODE HERE!\n",
    "\n",
    "# Use the lower and upper `95%` confidence intervals to calculate the range of the possible outcomes of our $60,000\n",
    "# YOUR CODE HERE!\n",
    "\n",
    "# Print results\n",
    "print(f\"There is a 95% chance that an initial investment of ${initial_investment} in the portfolio\"\n",
    "      f\" over the next 10 years will end within in the range of\"\n",
    "      f\" ${ci_lower_ten} and ${ci_upper_ten}\")"
   ]
  },
  {
   "cell_type": "code",
   "execution_count": null,
   "metadata": {},
   "outputs": [],
   "source": []
  }
 ],
 "metadata": {
  "kernelspec": {
   "display_name": "Python 3",
   "language": "python",
   "name": "python3"
  },
  "language_info": {
   "codemirror_mode": {
    "name": "ipython",
    "version": 3
   },
   "file_extension": ".py",
   "mimetype": "text/x-python",
   "name": "python",
   "nbconvert_exporter": "python",
   "pygments_lexer": "ipython3",
   "version": "3.7.10"
  },
  "nteract": {
   "version": "0.28.0"
  }
 },
 "nbformat": 4,
 "nbformat_minor": 4
}
