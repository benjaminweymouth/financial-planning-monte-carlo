{
 "cells": [
  {
   "cell_type": "markdown",
   "metadata": {},
   "source": [
    "# Unit 5 - Financial Planning"
   ]
  },
  {
   "cell_type": "code",
   "execution_count": 1,
   "metadata": {},
   "outputs": [],
   "source": [
    "# Initial imports\n",
    "import os\n",
    "import requests\n",
    "import json\n",
    "import pandas as pd\n",
    "from dotenv import load_dotenv\n",
    "import alpaca_trade_api as tradeapi\n",
    "from MCForecastTools import MCSimulation\n",
    "\n",
    "%matplotlib inline"
   ]
  },
  {
   "cell_type": "code",
   "execution_count": 2,
   "metadata": {},
   "outputs": [
    {
     "data": {
      "text/plain": [
       "True"
      ]
     },
     "execution_count": 2,
     "metadata": {},
     "output_type": "execute_result"
    }
   ],
   "source": [
    "# Load .env enviroment variables\n",
    "load_dotenv()"
   ]
  },
  {
   "cell_type": "markdown",
   "metadata": {},
   "source": [
    "## Part 1 - Personal Finance Planner"
   ]
  },
  {
   "cell_type": "markdown",
   "metadata": {},
   "source": [
    "### Collect Crypto Prices Using the `requests` Library"
   ]
  },
  {
   "cell_type": "code",
   "execution_count": 3,
   "metadata": {},
   "outputs": [],
   "source": [
    "# Set current amount of crypto assets\n",
    "my_btc = 1.2\n",
    "my_eth = 5.3"
   ]
  },
  {
   "cell_type": "code",
   "execution_count": 4,
   "metadata": {},
   "outputs": [],
   "source": [
    "# Crypto API URLs\n",
    "btc_url = \"https://api.alternative.me/v2/ticker/Bitcoin/?convert=CAD\"\n",
    "eth_url = \"https://api.alternative.me/v2/ticker/Ethereum/?convert=CAD\""
   ]
  },
  {
   "cell_type": "code",
   "execution_count": 5,
   "metadata": {},
   "outputs": [
    {
     "name": "stdout",
     "output_type": "stream",
     "text": [
      "The current market price of BTC is $55803.96\n",
      "The current market price of ETH is $3925.45\n"
     ]
    }
   ],
   "source": [
    "# Fetch current BTC price\n",
    " \n",
    "btc_response_data = requests.get(btc_url).json()\n",
    "#print(json.dumps(btc_response_data, indent=4))\n",
    "\n",
    "# Fetch current ETH price\n",
    "eth_response_data = requests.get(eth_url).json()\n",
    "#print(json.dumps(eth_response_data, indent=4))\n",
    "\n",
    "# Compute current value of my crpto\n",
    "\n",
    "btc_current_value = btc_response_data[\"data\"][\"1\"][\"quotes\"][\"CAD\"][\"price\"]\n",
    "#print(btc_current_value)\n",
    "eth_current_value = eth_response_data[\"data\"][\"1027\"][\"quotes\"][\"CAD\"][\"price\"]\n",
    "#print(eth_current_value)\n",
    "\n",
    "print(f\"The current market price of BTC is ${btc_current_value:0.2f}\")\n",
    "print(f\"The current market price of ETH is ${eth_current_value:0.2f}\")"
   ]
  },
  {
   "cell_type": "code",
   "execution_count": 6,
   "metadata": {},
   "outputs": [
    {
     "name": "stdout",
     "output_type": "stream",
     "text": [
      "The current value of your 1.2 BTC is $66964.75\n",
      "The current value of your 5.3 ETH is $20804.88\n",
      "Total value of your crypto wallet is:  $87769.63\n"
     ]
    }
   ],
   "source": [
    "# Print current crypto wallet balance\n",
    "my_btc_value = my_btc * btc_current_value \n",
    "my_eth_value = my_eth * eth_current_value \n",
    "\n",
    "#total crypto wallet balance \n",
    "\n",
    "total_crypto_balance = my_btc_value + my_eth_value\n",
    "print(f\"The current value of your {my_btc} BTC is ${my_btc_value:0.2f}\")\n",
    "print(f\"The current value of your {my_eth} ETH is ${my_eth_value:0.2f}\")\n",
    "print(f\"Total value of your crypto wallet is:  ${total_crypto_balance:0.2f}\")"
   ]
  },
  {
   "cell_type": "markdown",
   "metadata": {},
   "source": [
    "### Collect Investments Data Using Alpaca: `SPY` (stocks) and `AGG` (bonds)"
   ]
  },
  {
   "cell_type": "code",
   "execution_count": 7,
   "metadata": {},
   "outputs": [],
   "source": [
    "# Set current amount of shares\n",
    "my_agg = 200\n",
    "my_spy = 50"
   ]
  },
  {
   "cell_type": "code",
   "execution_count": 8,
   "metadata": {},
   "outputs": [
    {
     "name": "stdout",
     "output_type": "stream",
     "text": [
      "Alpaca Key type: <class 'str'>\n",
      "Alpaca Secret Key type: <class 'str'>\n"
     ]
    }
   ],
   "source": [
    "# Set Alpaca API key and secret key\n",
    "alpaca_api_key = os.getenv(\"ALPACA_API_KEY\")\n",
    "alpaca_secret_key = os.getenv(\"ALPACA_SECRET_KEY\")\n",
    "print(f\"Alpaca Key type: {type(alpaca_api_key)}\")\n",
    "print(f\"Alpaca Secret Key type: {type(alpaca_secret_key)}\")\n",
    "\n",
    "# Create the Alpaca API object\n",
    "alpaca = tradeapi.REST(\n",
    "    alpaca_api_key,\n",
    "    alpaca_secret_key,\n",
    "    api_version=\"v2\")"
   ]
  },
  {
   "cell_type": "code",
   "execution_count": 9,
   "metadata": {
    "scrolled": true
   },
   "outputs": [
    {
     "data": {
      "text/html": [
       "<div>\n",
       "<style scoped>\n",
       "    .dataframe tbody tr th:only-of-type {\n",
       "        vertical-align: middle;\n",
       "    }\n",
       "\n",
       "    .dataframe tbody tr th {\n",
       "        vertical-align: top;\n",
       "    }\n",
       "\n",
       "    .dataframe thead tr th {\n",
       "        text-align: left;\n",
       "    }\n",
       "</style>\n",
       "<table border=\"1\" class=\"dataframe\">\n",
       "  <thead>\n",
       "    <tr>\n",
       "      <th></th>\n",
       "      <th colspan=\"5\" halign=\"left\">AGG</th>\n",
       "      <th colspan=\"5\" halign=\"left\">SPY</th>\n",
       "    </tr>\n",
       "    <tr>\n",
       "      <th></th>\n",
       "      <th>open</th>\n",
       "      <th>high</th>\n",
       "      <th>low</th>\n",
       "      <th>close</th>\n",
       "      <th>volume</th>\n",
       "      <th>open</th>\n",
       "      <th>high</th>\n",
       "      <th>low</th>\n",
       "      <th>close</th>\n",
       "      <th>volume</th>\n",
       "    </tr>\n",
       "  </thead>\n",
       "  <tbody>\n",
       "    <tr>\n",
       "      <th>2021-09-22</th>\n",
       "      <td>116.11</td>\n",
       "      <td>116.25</td>\n",
       "      <td>116.005</td>\n",
       "      <td>116.19</td>\n",
       "      <td>6079965</td>\n",
       "      <td>436.05</td>\n",
       "      <td>440.03</td>\n",
       "      <td>433.747</td>\n",
       "      <td>437.83</td>\n",
       "      <td>91135278</td>\n",
       "    </tr>\n",
       "  </tbody>\n",
       "</table>\n",
       "</div>"
      ],
      "text/plain": [
       "               AGG                                       SPY                   \\\n",
       "              open    high      low   close   volume    open    high      low   \n",
       "2021-09-22  116.11  116.25  116.005  116.19  6079965  436.05  440.03  433.747   \n",
       "\n",
       "                              \n",
       "             close    volume  \n",
       "2021-09-22  437.83  91135278  "
      ]
     },
     "execution_count": 9,
     "metadata": {},
     "output_type": "execute_result"
    }
   ],
   "source": [
    "# Format current date as ISO format\n",
    "today = pd.Timestamp(\"2021-09-22\", tz=\"America/New_York\").isoformat()\n",
    " \n",
    "# Set the tickers\n",
    "tickers = [\"AGG\", \"SPY\"]\n",
    "\n",
    "# Set timeframe to '1D' for Alpaca API\n",
    "timeframe = \"1D\"\n",
    "\n",
    "# Get current closing prices for SPY and AGG\n",
    "# (use a limit=1000 parameter to call the most recent 1000 days of data)\n",
    "df_Investments = alpaca.get_barset(\n",
    "    tickers,\n",
    "    timeframe,\n",
    "    start = today,\n",
    "    #end= end_today,\n",
    "    limit=1000).df\n",
    "\n",
    "df_Investments.dropna(inplace=True)\n",
    "# Drop the time component of the date\n",
    "df_Investments.index = df_Investments.index.date\n",
    "# Preview DataFrame\n",
    "df_Investments.head() "
   ]
  },
  {
   "cell_type": "code",
   "execution_count": 10,
   "metadata": {},
   "outputs": [
    {
     "name": "stdout",
     "output_type": "stream",
     "text": [
      "Current AGG closing price: CAD $116.19\n",
      "Current SPY closing price: CAD $437.83\n"
     ]
    }
   ],
   "source": [
    "# Pick AGG and SPY close prices\n",
    "agg_close_price = df_Investments[\"AGG\"][\"close\"].iloc[0]\n",
    "                                                \n",
    "spy_close_price = df_Investments[\"SPY\"][\"close\"].iloc[0]\n",
    "\n",
    "# Print AGG and SPY close prices\n",
    "print(f\"Current AGG closing price: CAD ${agg_close_price:0.2f}\")\n",
    "print(f\"Current SPY closing price: CAD ${spy_close_price:0.2f}\")\n"
   ]
  },
  {
   "cell_type": "code",
   "execution_count": 11,
   "metadata": {},
   "outputs": [
    {
     "name": "stdout",
     "output_type": "stream",
     "text": [
      "The current value of your 50 SPY shares is $21891.50\n",
      "The current value of your 200 AGG shares is $23238.00\n",
      "Total value of your stock investments is:  $45129.50\n"
     ]
    }
   ],
   "source": [
    "# Compute the current value of shares\n",
    "my_spy_value = my_spy * spy_close_price\n",
    "my_agg_value = my_agg * agg_close_price\n",
    "\n",
    "#calculate total stock and bond investments\n",
    "total_investments = my_spy_value + my_agg_value\n",
    "\n",
    "# Print current value of shares\n",
    "print(f\"The current value of your {my_spy} SPY shares is ${my_spy_value:0.2f}\")\n",
    "print(f\"The current value of your {my_agg} AGG shares is ${my_agg_value:0.2f}\")\n",
    "print(f\"Total value of your stock investments is:  ${total_investments:0.2f}\")"
   ]
  },
  {
   "cell_type": "markdown",
   "metadata": {},
   "source": [
    "### Savings Health Analysis"
   ]
  },
  {
   "cell_type": "code",
   "execution_count": 12,
   "metadata": {},
   "outputs": [],
   "source": [
    "# Set monthly household income\n",
    "monthly_income=12000"
   ]
  },
  {
   "cell_type": "code",
   "execution_count": 13,
   "metadata": {},
   "outputs": [
    {
     "data": {
      "text/html": [
       "<div>\n",
       "<style scoped>\n",
       "    .dataframe tbody tr th:only-of-type {\n",
       "        vertical-align: middle;\n",
       "    }\n",
       "\n",
       "    .dataframe tbody tr th {\n",
       "        vertical-align: top;\n",
       "    }\n",
       "\n",
       "    .dataframe thead th {\n",
       "        text-align: right;\n",
       "    }\n",
       "</style>\n",
       "<table border=\"1\" class=\"dataframe\">\n",
       "  <thead>\n",
       "    <tr style=\"text-align: right;\">\n",
       "      <th></th>\n",
       "      <th>amount</th>\n",
       "    </tr>\n",
       "  </thead>\n",
       "  <tbody>\n",
       "    <tr>\n",
       "      <th>crypto</th>\n",
       "      <td>87769.633736</td>\n",
       "    </tr>\n",
       "    <tr>\n",
       "      <th>shares</th>\n",
       "      <td>45129.500000</td>\n",
       "    </tr>\n",
       "  </tbody>\n",
       "</table>\n",
       "</div>"
      ],
      "text/plain": [
       "              amount\n",
       "crypto  87769.633736\n",
       "shares  45129.500000"
      ]
     },
     "metadata": {},
     "output_type": "display_data"
    }
   ],
   "source": [
    "# Create savings DataFrame\n",
    "dict_savings = {'amount': [total_crypto_balance, total_investments]}\n",
    "index_list = ['crypto', 'shares']\n",
    "df_savings = pd.DataFrame(data=dict_savings, index=index_list)\n",
    "\n",
    "# Display savings DataFrame\n",
    "display(df_savings)"
   ]
  },
  {
   "cell_type": "code",
   "execution_count": 14,
   "metadata": {},
   "outputs": [
    {
     "data": {
      "image/png": "[encoded data removed]",
      "text/plain": [
       "<Figure size 360x360 with 1 Axes>"
      ]
     },
     "metadata": {},
     "output_type": "display_data"
    }
   ],
   "source": [
    "# Plot savings pie chart\n",
    "plot = df_savings.plot.pie(y='amount', figsize=(5, 5))"
   ]
  },
  {
   "cell_type": "code",
   "execution_count": 15,
   "metadata": {},
   "outputs": [
    {
     "name": "stdout",
     "output_type": "stream",
     "text": [
      "Your ideal emergency fund is: $36000.00\n"
     ]
    }
   ],
   "source": [
    "# Set ideal emergency fund\n",
    "emergency_fund = monthly_income * 3\n",
    "print(f\"Your ideal emergency fund is: ${emergency_fund:0.2f}\")"
   ]
  },
  {
   "cell_type": "code",
   "execution_count": 16,
   "metadata": {},
   "outputs": [
    {
     "name": "stdout",
     "output_type": "stream",
     "text": [
      "Combined balance with Crypto and Investments: $132899.13\n"
     ]
    }
   ],
   "source": [
    "# Calculate total amount of savings\n",
    "combined_total_balance = total_crypto_balance + total_investments\n",
    "print(f\"Combined balance with Crypto and Investments: ${combined_total_balance:0.2f}\")\n"
   ]
  },
  {
   "cell_type": "code",
   "execution_count": 17,
   "metadata": {},
   "outputs": [
    {
     "name": "stdout",
     "output_type": "stream",
     "text": [
      "Congratulations! You have enough money in this fund\n"
     ]
    }
   ],
   "source": [
    "# Validate savings health\n",
    "\n",
    "if combined_total_balance > emergency_fund:\n",
    "    print(\"Congratulations! You have enough money in this fund\")\n",
    "elif combined_total_balance == emergency_fund:\n",
    "        print(\"congratulating the person on reaching this financial goal.\")\n",
    "else:\n",
    "     dollars_away = emergency_fund - combined_total_balance \n",
    "     print(f\"Error: not enough funds! However, you are ${dollars_away:0.2f} from your financial goal\")"
   ]
  },
  {
   "cell_type": "markdown",
   "metadata": {},
   "source": [
    "## Part 2 - Retirement Planning\n",
    "\n",
    "### Monte Carlo Simulation"
   ]
  },
  {
   "cell_type": "code",
   "execution_count": 18,
   "metadata": {},
   "outputs": [],
   "source": [
    "# Get 5 years' worth of historical data for SPY and AGG\n",
    "# Format current date as ISO format\n",
    "start_today2 = pd.Timestamp(\"2016-09-22\", tz=\"America/New_York\").isoformat()\n",
    "stop_today2 = pd.Timestamp(\"2021-09-22\", tz=\"America/New_York\").isoformat()"
   ]
  },
  {
   "cell_type": "code",
   "execution_count": 19,
   "metadata": {
    "scrolled": true
   },
   "outputs": [
    {
     "data": {
      "text/html": [
       "<div>\n",
       "<style scoped>\n",
       "    .dataframe tbody tr th:only-of-type {\n",
       "        vertical-align: middle;\n",
       "    }\n",
       "\n",
       "    .dataframe tbody tr th {\n",
       "        vertical-align: top;\n",
       "    }\n",
       "\n",
       "    .dataframe thead tr th {\n",
       "        text-align: left;\n",
       "    }\n",
       "</style>\n",
       "<table border=\"1\" class=\"dataframe\">\n",
       "  <thead>\n",
       "    <tr>\n",
       "      <th></th>\n",
       "      <th colspan=\"5\" halign=\"left\">AGG</th>\n",
       "      <th colspan=\"5\" halign=\"left\">SPY</th>\n",
       "    </tr>\n",
       "    <tr>\n",
       "      <th></th>\n",
       "      <th>open</th>\n",
       "      <th>high</th>\n",
       "      <th>low</th>\n",
       "      <th>close</th>\n",
       "      <th>volume</th>\n",
       "      <th>open</th>\n",
       "      <th>high</th>\n",
       "      <th>low</th>\n",
       "      <th>close</th>\n",
       "      <th>volume</th>\n",
       "    </tr>\n",
       "  </thead>\n",
       "  <tbody>\n",
       "    <tr>\n",
       "      <th>2017-10-03</th>\n",
       "      <td>109.46</td>\n",
       "      <td>109.54</td>\n",
       "      <td>109.4000</td>\n",
       "      <td>109.52</td>\n",
       "      <td>2243369.0</td>\n",
       "      <td>252.46</td>\n",
       "      <td>252.89</td>\n",
       "      <td>252.23</td>\n",
       "      <td>252.85</td>\n",
       "      <td>33875099.0</td>\n",
       "    </tr>\n",
       "    <tr>\n",
       "      <th>2017-10-04</th>\n",
       "      <td>109.56</td>\n",
       "      <td>109.57</td>\n",
       "      <td>109.4100</td>\n",
       "      <td>109.50</td>\n",
       "      <td>2130907.0</td>\n",
       "      <td>252.69</td>\n",
       "      <td>253.44</td>\n",
       "      <td>252.56</td>\n",
       "      <td>253.16</td>\n",
       "      <td>30217246.0</td>\n",
       "    </tr>\n",
       "    <tr>\n",
       "      <th>2017-10-05</th>\n",
       "      <td>109.54</td>\n",
       "      <td>109.54</td>\n",
       "      <td>109.3701</td>\n",
       "      <td>109.44</td>\n",
       "      <td>1586971.0</td>\n",
       "      <td>253.51</td>\n",
       "      <td>254.68</td>\n",
       "      <td>253.40</td>\n",
       "      <td>254.64</td>\n",
       "      <td>45350955.0</td>\n",
       "    </tr>\n",
       "    <tr>\n",
       "      <th>2017-10-06</th>\n",
       "      <td>109.22</td>\n",
       "      <td>109.42</td>\n",
       "      <td>109.1499</td>\n",
       "      <td>109.29</td>\n",
       "      <td>1587251.0</td>\n",
       "      <td>254.15</td>\n",
       "      <td>254.46</td>\n",
       "      <td>253.85</td>\n",
       "      <td>254.40</td>\n",
       "      <td>40706912.0</td>\n",
       "    </tr>\n",
       "    <tr>\n",
       "      <th>2017-10-09</th>\n",
       "      <td>109.35</td>\n",
       "      <td>109.42</td>\n",
       "      <td>109.3146</td>\n",
       "      <td>109.40</td>\n",
       "      <td>1000706.0</td>\n",
       "      <td>254.63</td>\n",
       "      <td>254.70</td>\n",
       "      <td>253.65</td>\n",
       "      <td>253.96</td>\n",
       "      <td>23554888.0</td>\n",
       "    </tr>\n",
       "  </tbody>\n",
       "</table>\n",
       "</div>"
      ],
      "text/plain": [
       "               AGG                                          SPY          \\\n",
       "              open    high       low   close     volume    open    high   \n",
       "2017-10-03  109.46  109.54  109.4000  109.52  2243369.0  252.46  252.89   \n",
       "2017-10-04  109.56  109.57  109.4100  109.50  2130907.0  252.69  253.44   \n",
       "2017-10-05  109.54  109.54  109.3701  109.44  1586971.0  253.51  254.68   \n",
       "2017-10-06  109.22  109.42  109.1499  109.29  1587251.0  254.15  254.46   \n",
       "2017-10-09  109.35  109.42  109.3146  109.40  1000706.0  254.63  254.70   \n",
       "\n",
       "                                        \n",
       "               low   close      volume  \n",
       "2017-10-03  252.23  252.85  33875099.0  \n",
       "2017-10-04  252.56  253.16  30217246.0  \n",
       "2017-10-05  253.40  254.64  45350955.0  \n",
       "2017-10-06  253.85  254.40  40706912.0  \n",
       "2017-10-09  253.65  253.96  23554888.0  "
      ]
     },
     "execution_count": 19,
     "metadata": {},
     "output_type": "execute_result"
    }
   ],
   "source": [
    "# Get current closing prices for SPY and AGG\n",
    "# (use a limit=1000 parameter to call the most recent 1000 days of data)\n",
    "df_stock_data2 = alpaca.get_barset(\n",
    "    tickers,\n",
    "    timeframe,\n",
    "    start = start_today2,\n",
    "    end = stop_today2,\n",
    "    limit=1000).df\n",
    "\n",
    "#drop null values \n",
    "df_stock_data2.dropna(inplace=True)\n",
    "\n",
    "# Drop the time component of the date\n",
    "df_stock_data2.index = df_stock_data2.index.date\n",
    "# Preview DataFrame\n",
    "#df_stock_data2.tail()\n",
    "\n",
    "# Display sample data\n",
    "df_stock_data2.head()"
   ]
  },
  {
   "cell_type": "code",
   "execution_count": 20,
   "metadata": {},
   "outputs": [],
   "source": [
    "# Configuring a Monte Carlo simulation to forecast 30 years cumulative returns\n",
    "\n",
    "# using a 40 / 60 ratio \n",
    "MC_thirty_year = MCSimulation(\n",
    "    portfolio_data = df_stock_data2,\n",
    "    weights = [.40, .60 ],\n",
    "    num_simulation = 500,\n",
    "    num_trading_days = 252*30\n",
    ")"
   ]
  },
  {
   "cell_type": "code",
   "execution_count": 21,
   "metadata": {},
   "outputs": [
    {
     "data": {
      "text/html": [
       "<div>\n",
       "<style scoped>\n",
       "    .dataframe tbody tr th:only-of-type {\n",
       "        vertical-align: middle;\n",
       "    }\n",
       "\n",
       "    .dataframe tbody tr th {\n",
       "        vertical-align: top;\n",
       "    }\n",
       "\n",
       "    .dataframe thead tr th {\n",
       "        text-align: left;\n",
       "    }\n",
       "</style>\n",
       "<table border=\"1\" class=\"dataframe\">\n",
       "  <thead>\n",
       "    <tr>\n",
       "      <th></th>\n",
       "      <th colspan=\"6\" halign=\"left\">AGG</th>\n",
       "      <th colspan=\"6\" halign=\"left\">SPY</th>\n",
       "    </tr>\n",
       "    <tr>\n",
       "      <th></th>\n",
       "      <th>open</th>\n",
       "      <th>high</th>\n",
       "      <th>low</th>\n",
       "      <th>close</th>\n",
       "      <th>volume</th>\n",
       "      <th>daily_return</th>\n",
       "      <th>open</th>\n",
       "      <th>high</th>\n",
       "      <th>low</th>\n",
       "      <th>close</th>\n",
       "      <th>volume</th>\n",
       "      <th>daily_return</th>\n",
       "    </tr>\n",
       "  </thead>\n",
       "  <tbody>\n",
       "    <tr>\n",
       "      <th>2017-10-03</th>\n",
       "      <td>109.46</td>\n",
       "      <td>109.54</td>\n",
       "      <td>109.4000</td>\n",
       "      <td>109.52</td>\n",
       "      <td>2243369.0</td>\n",
       "      <td>NaN</td>\n",
       "      <td>252.46</td>\n",
       "      <td>252.89</td>\n",
       "      <td>252.23</td>\n",
       "      <td>252.85</td>\n",
       "      <td>33875099.0</td>\n",
       "      <td>NaN</td>\n",
       "    </tr>\n",
       "    <tr>\n",
       "      <th>2017-10-04</th>\n",
       "      <td>109.56</td>\n",
       "      <td>109.57</td>\n",
       "      <td>109.4100</td>\n",
       "      <td>109.50</td>\n",
       "      <td>2130907.0</td>\n",
       "      <td>-0.000183</td>\n",
       "      <td>252.69</td>\n",
       "      <td>253.44</td>\n",
       "      <td>252.56</td>\n",
       "      <td>253.16</td>\n",
       "      <td>30217246.0</td>\n",
       "      <td>0.001226</td>\n",
       "    </tr>\n",
       "    <tr>\n",
       "      <th>2017-10-05</th>\n",
       "      <td>109.54</td>\n",
       "      <td>109.54</td>\n",
       "      <td>109.3701</td>\n",
       "      <td>109.44</td>\n",
       "      <td>1586971.0</td>\n",
       "      <td>-0.000548</td>\n",
       "      <td>253.51</td>\n",
       "      <td>254.68</td>\n",
       "      <td>253.40</td>\n",
       "      <td>254.64</td>\n",
       "      <td>45350955.0</td>\n",
       "      <td>0.005846</td>\n",
       "    </tr>\n",
       "    <tr>\n",
       "      <th>2017-10-06</th>\n",
       "      <td>109.22</td>\n",
       "      <td>109.42</td>\n",
       "      <td>109.1499</td>\n",
       "      <td>109.29</td>\n",
       "      <td>1587251.0</td>\n",
       "      <td>-0.001371</td>\n",
       "      <td>254.15</td>\n",
       "      <td>254.46</td>\n",
       "      <td>253.85</td>\n",
       "      <td>254.40</td>\n",
       "      <td>40706912.0</td>\n",
       "      <td>-0.000943</td>\n",
       "    </tr>\n",
       "    <tr>\n",
       "      <th>2017-10-09</th>\n",
       "      <td>109.35</td>\n",
       "      <td>109.42</td>\n",
       "      <td>109.3146</td>\n",
       "      <td>109.40</td>\n",
       "      <td>1000706.0</td>\n",
       "      <td>0.001006</td>\n",
       "      <td>254.63</td>\n",
       "      <td>254.70</td>\n",
       "      <td>253.65</td>\n",
       "      <td>253.96</td>\n",
       "      <td>23554888.0</td>\n",
       "      <td>-0.001730</td>\n",
       "    </tr>\n",
       "  </tbody>\n",
       "</table>\n",
       "</div>"
      ],
      "text/plain": [
       "               AGG                                                       SPY  \\\n",
       "              open    high       low   close     volume daily_return    open   \n",
       "2017-10-03  109.46  109.54  109.4000  109.52  2243369.0          NaN  252.46   \n",
       "2017-10-04  109.56  109.57  109.4100  109.50  2130907.0    -0.000183  252.69   \n",
       "2017-10-05  109.54  109.54  109.3701  109.44  1586971.0    -0.000548  253.51   \n",
       "2017-10-06  109.22  109.42  109.1499  109.29  1587251.0    -0.001371  254.15   \n",
       "2017-10-09  109.35  109.42  109.3146  109.40  1000706.0     0.001006  254.63   \n",
       "\n",
       "                                                             \n",
       "              high     low   close      volume daily_return  \n",
       "2017-10-03  252.89  252.23  252.85  33875099.0          NaN  \n",
       "2017-10-04  253.44  252.56  253.16  30217246.0     0.001226  \n",
       "2017-10-05  254.68  253.40  254.64  45350955.0     0.005846  \n",
       "2017-10-06  254.46  253.85  254.40  40706912.0    -0.000943  \n",
       "2017-10-09  254.70  253.65  253.96  23554888.0    -0.001730  "
      ]
     },
     "execution_count": 21,
     "metadata": {},
     "output_type": "execute_result"
    }
   ],
   "source": [
    "# Printing the simulation input data\n",
    "MC_thirty_year.portfolio_data.head()"
   ]
  },
  {
   "cell_type": "code",
   "execution_count": 22,
   "metadata": {},
   "outputs": [
    {
     "name": "stdout",
     "output_type": "stream",
     "text": [
      "Running Monte Carlo simulation number 0.\n",
      "Running Monte Carlo simulation number 10.\n",
      "Running Monte Carlo simulation number 20.\n",
      "Running Monte Carlo simulation number 30.\n",
      "Running Monte Carlo simulation number 40.\n",
      "Running Monte Carlo simulation number 50.\n",
      "Running Monte Carlo simulation number 60.\n",
      "Running Monte Carlo simulation number 70.\n",
      "Running Monte Carlo simulation number 80.\n",
      "Running Monte Carlo simulation number 90.\n",
      "Running Monte Carlo simulation number 100.\n",
      "Running Monte Carlo simulation number 110.\n",
      "Running Monte Carlo simulation number 120.\n",
      "Running Monte Carlo simulation number 130.\n",
      "Running Monte Carlo simulation number 140.\n",
      "Running Monte Carlo simulation number 150.\n",
      "Running Monte Carlo simulation number 160.\n",
      "Running Monte Carlo simulation number 170.\n",
      "Running Monte Carlo simulation number 180.\n",
      "Running Monte Carlo simulation number 190.\n",
      "Running Monte Carlo simulation number 200.\n",
      "Running Monte Carlo simulation number 210.\n",
      "Running Monte Carlo simulation number 220.\n",
      "Running Monte Carlo simulation number 230.\n",
      "Running Monte Carlo simulation number 240.\n",
      "Running Monte Carlo simulation number 250.\n",
      "Running Monte Carlo simulation number 260.\n",
      "Running Monte Carlo simulation number 270.\n",
      "Running Monte Carlo simulation number 280.\n",
      "Running Monte Carlo simulation number 290.\n",
      "Running Monte Carlo simulation number 300.\n",
      "Running Monte Carlo simulation number 310.\n",
      "Running Monte Carlo simulation number 320.\n",
      "Running Monte Carlo simulation number 330.\n",
      "Running Monte Carlo simulation number 340.\n",
      "Running Monte Carlo simulation number 350.\n",
      "Running Monte Carlo simulation number 360.\n",
      "Running Monte Carlo simulation number 370.\n",
      "Running Monte Carlo simulation number 380.\n",
      "Running Monte Carlo simulation number 390.\n",
      "Running Monte Carlo simulation number 400.\n",
      "Running Monte Carlo simulation number 410.\n",
      "Running Monte Carlo simulation number 420.\n",
      "Running Monte Carlo simulation number 430.\n",
      "Running Monte Carlo simulation number 440.\n",
      "Running Monte Carlo simulation number 450.\n",
      "Running Monte Carlo simulation number 460.\n",
      "Running Monte Carlo simulation number 470.\n",
      "Running Monte Carlo simulation number 480.\n",
      "Running Monte Carlo simulation number 490.\n"
     ]
    },
    {
     "data": {
      "text/html": [
       "<div>\n",
       "<style scoped>\n",
       "    .dataframe tbody tr th:only-of-type {\n",
       "        vertical-align: middle;\n",
       "    }\n",
       "\n",
       "    .dataframe tbody tr th {\n",
       "        vertical-align: top;\n",
       "    }\n",
       "\n",
       "    .dataframe thead th {\n",
       "        text-align: right;\n",
       "    }\n",
       "</style>\n",
       "<table border=\"1\" class=\"dataframe\">\n",
       "  <thead>\n",
       "    <tr style=\"text-align: right;\">\n",
       "      <th></th>\n",
       "      <th>0</th>\n",
       "      <th>1</th>\n",
       "      <th>2</th>\n",
       "      <th>3</th>\n",
       "      <th>4</th>\n",
       "      <th>5</th>\n",
       "      <th>6</th>\n",
       "      <th>7</th>\n",
       "      <th>8</th>\n",
       "      <th>9</th>\n",
       "      <th>...</th>\n",
       "      <th>490</th>\n",
       "      <th>491</th>\n",
       "      <th>492</th>\n",
       "      <th>493</th>\n",
       "      <th>494</th>\n",
       "      <th>495</th>\n",
       "      <th>496</th>\n",
       "      <th>497</th>\n",
       "      <th>498</th>\n",
       "      <th>499</th>\n",
       "    </tr>\n",
       "  </thead>\n",
       "  <tbody>\n",
       "    <tr>\n",
       "      <th>0</th>\n",
       "      <td>1.000000</td>\n",
       "      <td>1.000000</td>\n",
       "      <td>1.000000</td>\n",
       "      <td>1.000000</td>\n",
       "      <td>1.000000</td>\n",
       "      <td>1.000000</td>\n",
       "      <td>1.000000</td>\n",
       "      <td>1.000000</td>\n",
       "      <td>1.000000</td>\n",
       "      <td>1.000000</td>\n",
       "      <td>...</td>\n",
       "      <td>1.000000</td>\n",
       "      <td>1.000000</td>\n",
       "      <td>1.000000</td>\n",
       "      <td>1.000000</td>\n",
       "      <td>1.000000</td>\n",
       "      <td>1.000000</td>\n",
       "      <td>1.000000</td>\n",
       "      <td>1.000000</td>\n",
       "      <td>1.000000</td>\n",
       "      <td>1.000000</td>\n",
       "    </tr>\n",
       "    <tr>\n",
       "      <th>1</th>\n",
       "      <td>0.990928</td>\n",
       "      <td>0.988059</td>\n",
       "      <td>1.009229</td>\n",
       "      <td>0.990099</td>\n",
       "      <td>1.007156</td>\n",
       "      <td>1.001341</td>\n",
       "      <td>1.021795</td>\n",
       "      <td>0.999705</td>\n",
       "      <td>0.997374</td>\n",
       "      <td>0.994774</td>\n",
       "      <td>...</td>\n",
       "      <td>1.002708</td>\n",
       "      <td>0.993126</td>\n",
       "      <td>0.999628</td>\n",
       "      <td>1.006433</td>\n",
       "      <td>0.995412</td>\n",
       "      <td>0.996671</td>\n",
       "      <td>0.996703</td>\n",
       "      <td>1.011841</td>\n",
       "      <td>1.009165</td>\n",
       "      <td>1.010080</td>\n",
       "    </tr>\n",
       "    <tr>\n",
       "      <th>2</th>\n",
       "      <td>0.991306</td>\n",
       "      <td>0.988418</td>\n",
       "      <td>1.017090</td>\n",
       "      <td>1.002174</td>\n",
       "      <td>1.007353</td>\n",
       "      <td>1.001364</td>\n",
       "      <td>1.025835</td>\n",
       "      <td>1.002864</td>\n",
       "      <td>1.002664</td>\n",
       "      <td>1.010047</td>\n",
       "      <td>...</td>\n",
       "      <td>1.009913</td>\n",
       "      <td>1.000315</td>\n",
       "      <td>0.997889</td>\n",
       "      <td>0.997619</td>\n",
       "      <td>0.998023</td>\n",
       "      <td>0.991466</td>\n",
       "      <td>1.004536</td>\n",
       "      <td>1.007054</td>\n",
       "      <td>1.012703</td>\n",
       "      <td>1.002639</td>\n",
       "    </tr>\n",
       "    <tr>\n",
       "      <th>3</th>\n",
       "      <td>1.008620</td>\n",
       "      <td>0.977895</td>\n",
       "      <td>1.028697</td>\n",
       "      <td>0.993604</td>\n",
       "      <td>1.013547</td>\n",
       "      <td>0.992216</td>\n",
       "      <td>1.020848</td>\n",
       "      <td>1.001809</td>\n",
       "      <td>1.005635</td>\n",
       "      <td>0.983089</td>\n",
       "      <td>...</td>\n",
       "      <td>1.014330</td>\n",
       "      <td>0.995580</td>\n",
       "      <td>1.004426</td>\n",
       "      <td>0.995726</td>\n",
       "      <td>1.003141</td>\n",
       "      <td>0.997012</td>\n",
       "      <td>1.007579</td>\n",
       "      <td>0.996907</td>\n",
       "      <td>1.008221</td>\n",
       "      <td>1.000944</td>\n",
       "    </tr>\n",
       "    <tr>\n",
       "      <th>4</th>\n",
       "      <td>1.002205</td>\n",
       "      <td>0.974084</td>\n",
       "      <td>1.024036</td>\n",
       "      <td>1.002393</td>\n",
       "      <td>1.024141</td>\n",
       "      <td>0.988663</td>\n",
       "      <td>1.023689</td>\n",
       "      <td>1.001390</td>\n",
       "      <td>1.008232</td>\n",
       "      <td>0.977113</td>\n",
       "      <td>...</td>\n",
       "      <td>1.011182</td>\n",
       "      <td>0.992570</td>\n",
       "      <td>1.003957</td>\n",
       "      <td>1.003101</td>\n",
       "      <td>0.997463</td>\n",
       "      <td>1.005504</td>\n",
       "      <td>1.014625</td>\n",
       "      <td>0.987299</td>\n",
       "      <td>1.002332</td>\n",
       "      <td>0.997807</td>\n",
       "    </tr>\n",
       "    <tr>\n",
       "      <th>...</th>\n",
       "      <td>...</td>\n",
       "      <td>...</td>\n",
       "      <td>...</td>\n",
       "      <td>...</td>\n",
       "      <td>...</td>\n",
       "      <td>...</td>\n",
       "      <td>...</td>\n",
       "      <td>...</td>\n",
       "      <td>...</td>\n",
       "      <td>...</td>\n",
       "      <td>...</td>\n",
       "      <td>...</td>\n",
       "      <td>...</td>\n",
       "      <td>...</td>\n",
       "      <td>...</td>\n",
       "      <td>...</td>\n",
       "      <td>...</td>\n",
       "      <td>...</td>\n",
       "      <td>...</td>\n",
       "      <td>...</td>\n",
       "      <td>...</td>\n",
       "    </tr>\n",
       "    <tr>\n",
       "      <th>7556</th>\n",
       "      <td>8.746991</td>\n",
       "      <td>31.883976</td>\n",
       "      <td>6.026952</td>\n",
       "      <td>28.368233</td>\n",
       "      <td>10.113105</td>\n",
       "      <td>12.675117</td>\n",
       "      <td>37.002560</td>\n",
       "      <td>22.321182</td>\n",
       "      <td>29.246831</td>\n",
       "      <td>9.419221</td>\n",
       "      <td>...</td>\n",
       "      <td>17.482699</td>\n",
       "      <td>63.834015</td>\n",
       "      <td>8.061480</td>\n",
       "      <td>50.317304</td>\n",
       "      <td>9.706862</td>\n",
       "      <td>13.957434</td>\n",
       "      <td>18.773070</td>\n",
       "      <td>10.766396</td>\n",
       "      <td>12.322032</td>\n",
       "      <td>9.387941</td>\n",
       "    </tr>\n",
       "    <tr>\n",
       "      <th>7557</th>\n",
       "      <td>8.797382</td>\n",
       "      <td>32.016790</td>\n",
       "      <td>6.064919</td>\n",
       "      <td>28.250665</td>\n",
       "      <td>9.997847</td>\n",
       "      <td>12.767985</td>\n",
       "      <td>36.836733</td>\n",
       "      <td>22.353563</td>\n",
       "      <td>28.979762</td>\n",
       "      <td>9.188335</td>\n",
       "      <td>...</td>\n",
       "      <td>17.539925</td>\n",
       "      <td>64.641453</td>\n",
       "      <td>8.065336</td>\n",
       "      <td>50.298011</td>\n",
       "      <td>9.560697</td>\n",
       "      <td>14.038329</td>\n",
       "      <td>18.907710</td>\n",
       "      <td>10.772625</td>\n",
       "      <td>12.409434</td>\n",
       "      <td>9.493242</td>\n",
       "    </tr>\n",
       "    <tr>\n",
       "      <th>7558</th>\n",
       "      <td>8.838001</td>\n",
       "      <td>31.966972</td>\n",
       "      <td>6.102536</td>\n",
       "      <td>28.537111</td>\n",
       "      <td>10.055835</td>\n",
       "      <td>12.730528</td>\n",
       "      <td>37.238623</td>\n",
       "      <td>22.279765</td>\n",
       "      <td>29.530109</td>\n",
       "      <td>9.200565</td>\n",
       "      <td>...</td>\n",
       "      <td>17.633745</td>\n",
       "      <td>64.748993</td>\n",
       "      <td>8.070360</td>\n",
       "      <td>50.366087</td>\n",
       "      <td>9.516694</td>\n",
       "      <td>13.790060</td>\n",
       "      <td>18.863860</td>\n",
       "      <td>10.969948</td>\n",
       "      <td>12.315613</td>\n",
       "      <td>9.519634</td>\n",
       "    </tr>\n",
       "    <tr>\n",
       "      <th>7559</th>\n",
       "      <td>8.776934</td>\n",
       "      <td>32.114583</td>\n",
       "      <td>6.140370</td>\n",
       "      <td>28.435777</td>\n",
       "      <td>10.060531</td>\n",
       "      <td>12.714074</td>\n",
       "      <td>37.116900</td>\n",
       "      <td>22.433577</td>\n",
       "      <td>29.339924</td>\n",
       "      <td>9.119960</td>\n",
       "      <td>...</td>\n",
       "      <td>17.702267</td>\n",
       "      <td>64.887295</td>\n",
       "      <td>8.072371</td>\n",
       "      <td>50.200181</td>\n",
       "      <td>9.526360</td>\n",
       "      <td>13.671530</td>\n",
       "      <td>18.832865</td>\n",
       "      <td>10.869126</td>\n",
       "      <td>12.297246</td>\n",
       "      <td>9.525106</td>\n",
       "    </tr>\n",
       "    <tr>\n",
       "      <th>7560</th>\n",
       "      <td>8.748495</td>\n",
       "      <td>32.013336</td>\n",
       "      <td>6.241055</td>\n",
       "      <td>28.019049</td>\n",
       "      <td>10.029794</td>\n",
       "      <td>12.637235</td>\n",
       "      <td>37.179059</td>\n",
       "      <td>22.114693</td>\n",
       "      <td>29.289617</td>\n",
       "      <td>9.152618</td>\n",
       "      <td>...</td>\n",
       "      <td>17.551419</td>\n",
       "      <td>65.490813</td>\n",
       "      <td>8.086369</td>\n",
       "      <td>50.410306</td>\n",
       "      <td>9.547665</td>\n",
       "      <td>13.724477</td>\n",
       "      <td>18.862553</td>\n",
       "      <td>10.888937</td>\n",
       "      <td>12.343755</td>\n",
       "      <td>9.496115</td>\n",
       "    </tr>\n",
       "  </tbody>\n",
       "</table>\n",
       "<p>7561 rows × 500 columns</p>\n",
       "</div>"
      ],
      "text/plain": [
       "           0          1         2          3          4          5    \\\n",
       "0     1.000000   1.000000  1.000000   1.000000   1.000000   1.000000   \n",
       "1     0.990928   0.988059  1.009229   0.990099   1.007156   1.001341   \n",
       "2     0.991306   0.988418  1.017090   1.002174   1.007353   1.001364   \n",
       "3     1.008620   0.977895  1.028697   0.993604   1.013547   0.992216   \n",
       "4     1.002205   0.974084  1.024036   1.002393   1.024141   0.988663   \n",
       "...        ...        ...       ...        ...        ...        ...   \n",
       "7556  8.746991  31.883976  6.026952  28.368233  10.113105  12.675117   \n",
       "7557  8.797382  32.016790  6.064919  28.250665   9.997847  12.767985   \n",
       "7558  8.838001  31.966972  6.102536  28.537111  10.055835  12.730528   \n",
       "7559  8.776934  32.114583  6.140370  28.435777  10.060531  12.714074   \n",
       "7560  8.748495  32.013336  6.241055  28.019049  10.029794  12.637235   \n",
       "\n",
       "            6          7          8         9    ...        490        491  \\\n",
       "0      1.000000   1.000000   1.000000  1.000000  ...   1.000000   1.000000   \n",
       "1      1.021795   0.999705   0.997374  0.994774  ...   1.002708   0.993126   \n",
       "2      1.025835   1.002864   1.002664  1.010047  ...   1.009913   1.000315   \n",
       "3      1.020848   1.001809   1.005635  0.983089  ...   1.014330   0.995580   \n",
       "4      1.023689   1.001390   1.008232  0.977113  ...   1.011182   0.992570   \n",
       "...         ...        ...        ...       ...  ...        ...        ...   \n",
       "7556  37.002560  22.321182  29.246831  9.419221  ...  17.482699  63.834015   \n",
       "7557  36.836733  22.353563  28.979762  9.188335  ...  17.539925  64.641453   \n",
       "7558  37.238623  22.279765  29.530109  9.200565  ...  17.633745  64.748993   \n",
       "7559  37.116900  22.433577  29.339924  9.119960  ...  17.702267  64.887295   \n",
       "7560  37.179059  22.114693  29.289617  9.152618  ...  17.551419  65.490813   \n",
       "\n",
       "           492        493       494        495        496        497  \\\n",
       "0     1.000000   1.000000  1.000000   1.000000   1.000000   1.000000   \n",
       "1     0.999628   1.006433  0.995412   0.996671   0.996703   1.011841   \n",
       "2     0.997889   0.997619  0.998023   0.991466   1.004536   1.007054   \n",
       "3     1.004426   0.995726  1.003141   0.997012   1.007579   0.996907   \n",
       "4     1.003957   1.003101  0.997463   1.005504   1.014625   0.987299   \n",
       "...        ...        ...       ...        ...        ...        ...   \n",
       "7556  8.061480  50.317304  9.706862  13.957434  18.773070  10.766396   \n",
       "7557  8.065336  50.298011  9.560697  14.038329  18.907710  10.772625   \n",
       "7558  8.070360  50.366087  9.516694  13.790060  18.863860  10.969948   \n",
       "7559  8.072371  50.200181  9.526360  13.671530  18.832865  10.869126   \n",
       "7560  8.086369  50.410306  9.547665  13.724477  18.862553  10.888937   \n",
       "\n",
       "            498       499  \n",
       "0      1.000000  1.000000  \n",
       "1      1.009165  1.010080  \n",
       "2      1.012703  1.002639  \n",
       "3      1.008221  1.000944  \n",
       "4      1.002332  0.997807  \n",
       "...         ...       ...  \n",
       "7556  12.322032  9.387941  \n",
       "7557  12.409434  9.493242  \n",
       "7558  12.315613  9.519634  \n",
       "7559  12.297246  9.525106  \n",
       "7560  12.343755  9.496115  \n",
       "\n",
       "[7561 rows x 500 columns]"
      ]
     },
     "execution_count": 22,
     "metadata": {},
     "output_type": "execute_result"
    }
   ],
   "source": [
    "# Running a Monte Carlo simulation to forecast 30 years cumulative returns\n",
    "MC_thirty_year.calc_cumulative_return()"
   ]
  },
  {
   "cell_type": "code",
   "execution_count": null,
   "metadata": {},
   "outputs": [],
   "source": [
    "# Plot simulation outcomes\n",
    "line_plot = MC_thirty_year.plot_simulation()\n",
    "# Save the plot for future usage\n",
    "line_plot.get_figure().savefig(\"MC_thirty_year.png\", bbox_inches=\"tight\")"
   ]
  },
  {
   "cell_type": "code",
   "execution_count": null,
   "metadata": {},
   "outputs": [],
   "source": [
    "# Plot probability distribution and confidence intervals\n",
    "dist_plot = MC_thirty_year.plot_distribution()"
   ]
  },
  {
   "cell_type": "markdown",
   "metadata": {},
   "source": [
    "### Retirement Analysis"
   ]
  },
  {
   "cell_type": "code",
   "execution_count": null,
   "metadata": {},
   "outputs": [],
   "source": [
    "# Fetch summary statistics from the Monte Carlo simulation results\n",
    "tbl = MC_thirty_year.summarize_cumulative_return()\n",
    "\n",
    "# Print summary statistics\n",
    "print(tbl)"
   ]
  },
  {
   "cell_type": "markdown",
   "metadata": {},
   "source": [
    "### Calculate the expected portfolio return at the `95%` lower and upper confidence intervals based on a `$20,000` initial investment."
   ]
  },
  {
   "cell_type": "code",
   "execution_count": null,
   "metadata": {},
   "outputs": [],
   "source": [
    "# Set initial investment to 20000\n",
    "initial_investment = 20000\n",
    "\n",
    "# Use the lower and upper `95%` confidence intervals to calculate the range of the possible outcomes of our $20,000\n",
    "ci_lower = round(tbl[8]*initial_investment,2)\n",
    "ci_upper = round(tbl[9]*initial_investment,2)\n",
    "\n",
    "# Print results\n",
    "print(f\"There is a 95% chance that an initial investment of ${initial_investment} in the portfolio\"\n",
    "      f\" over the next 30 years will end within in the range of\"\n",
    "      f\" ${ci_lower} and ${ci_upper}\")"
   ]
  },
  {
   "cell_type": "markdown",
   "metadata": {},
   "source": [
    "### Calculate the expected portfolio return at the `95%` lower and upper confidence intervals based on a `50%` increase in the initial investment."
   ]
  },
  {
   "cell_type": "code",
   "execution_count": null,
   "metadata": {},
   "outputs": [],
   "source": [
    "# Set initial investment\n",
    "initial_investment = 20000 * 1.5\n",
    "\n",
    "# Use the lower and upper `95%` confidence intervals to calculate the range of the possible outcomes of our $30,000\n",
    "ci_lower = round(tbl[8]*initial_investment,2)\n",
    "ci_upper = round(tbl[9]*initial_investment,2)\n",
    "\n",
    "# Print results\n",
    "print(f\"There is a 95% chance that an initial investment of ${initial_investment} in the portfolio\"\n",
    "      f\" over the next 30 years will end within in the range of\"\n",
    "      f\" ${ci_lower} and ${ci_upper}\")"
   ]
  },
  {
   "cell_type": "markdown",
   "metadata": {},
   "source": [
    "## Optional Challenge - Early Retirement\n",
    "\n",
    "\n",
    "### Five Years Retirement Option"
   ]
  },
  {
   "cell_type": "code",
   "execution_count": null,
   "metadata": {},
   "outputs": [],
   "source": [
    "# Configuring a Monte Carlo simulation to forecast 5 years cumulative returns\n",
    " \n",
    "#as per the question, changing the ratio to higher stock, so 30% bond 70% stocks. \n",
    "\n",
    "MC_five_year = MCSimulation(\n",
    "    portfolio_data = df_stock_data2,\n",
    "    weights = [.30, .70 ],\n",
    "    num_simulation = 500,\n",
    "    num_trading_days = 252*5\n",
    ")"
   ]
  },
  {
   "cell_type": "code",
   "execution_count": null,
   "metadata": {},
   "outputs": [],
   "source": [
    "# commented out. included for testing purposes only \n",
    "#MC_five_year.portfolio_data.head()"
   ]
  },
  {
   "cell_type": "code",
   "execution_count": null,
   "metadata": {},
   "outputs": [],
   "source": [
    "# Running a Monte Carlo simulation to forecast 5 years cumulative returns\n",
    "MC_five_year.calc_cumulative_return()"
   ]
  },
  {
   "cell_type": "code",
   "execution_count": null,
   "metadata": {},
   "outputs": [],
   "source": [
    "# Plot simulation outcomes\n",
    "line_plot2 = MC_five_year.plot_simulation()\n",
    "# Save the plot for future usage\n",
    "line_plot2.get_figure().savefig(\"MC_five_year.png\", bbox_inches=\"tight\")"
   ]
  },
  {
   "cell_type": "code",
   "execution_count": null,
   "metadata": {},
   "outputs": [],
   "source": [
    "# Plot probability distribution and confidence intervals\n",
    "dist_plot2 = MC_five_year.plot_distribution()"
   ]
  },
  {
   "cell_type": "code",
   "execution_count": null,
   "metadata": {},
   "outputs": [],
   "source": [
    "# Fetch summary statistics from the Monte Carlo simulation results\n",
    "tbl2 = MC_five_year.summarize_cumulative_return()\n",
    "\n",
    "# Print summary statistics\n",
    "print(tbl2)"
   ]
  },
  {
   "cell_type": "code",
   "execution_count": null,
   "metadata": {},
   "outputs": [],
   "source": [
    "# as per starter code, initalizing new investment to $60000\n",
    "initial_investment2 = 60000\n",
    "\n",
    "# Use the lower and upper `95%` confidence intervals to calculate the range of the possible outcomes of our $60,000\n",
    "ci_lower_five= round(tbl[8]*initial_investment2,2)\n",
    "ci_upper_five = round(tbl[9]*initial_investment2,2)\n",
    "\n",
    "# Print results\n",
    "print(f\"There is a 95% chance that an initial investment of ${initial_investment2} in the portfolio\"\n",
    "      f\" over the next 30 years will end within in the range of\"\n",
    "      f\" ${ci_lower_five} and ${ci_upper_five}\")"
   ]
  },
  {
   "cell_type": "markdown",
   "metadata": {},
   "source": [
    "### Ten Years Retirement Option"
   ]
  },
  {
   "cell_type": "code",
   "execution_count": null,
   "metadata": {},
   "outputs": [],
   "source": [
    "# Configuring a Monte Carlo simulation to forecast 10 years cumulative returns\n",
    "MC_ten_year = MCSimulation(\n",
    "    portfolio_data = df_stock_data2,\n",
    "    weights = [.30, .70 ],\n",
    "    num_simulation = 500,\n",
    "    num_trading_days = 252*10\n",
    ")"
   ]
  },
  {
   "cell_type": "code",
   "execution_count": null,
   "metadata": {},
   "outputs": [],
   "source": [
    "# Running a Monte Carlo simulation to forecast 10 years cumulative returns\n",
    " \n",
    "MC_ten_year.calc_cumulative_return()"
   ]
  },
  {
   "cell_type": "code",
   "execution_count": null,
   "metadata": {},
   "outputs": [],
   "source": [
    "# Plot simulation outcomes\n",
    "line_plot3 = MC_ten_year.plot_simulation()\n",
    "# Save the plot for future usage\n",
    "line_plot3.get_figure().savefig(\"MC_ten_year.png\", bbox_inches=\"tight\")"
   ]
  },
  {
   "cell_type": "code",
   "execution_count": null,
   "metadata": {},
   "outputs": [],
   "source": [
    "# Plot probability distribution and confidence intervals\n",
    "dist_plot3 = MC_five_year.plot_distribution()"
   ]
  },
  {
   "cell_type": "code",
   "execution_count": null,
   "metadata": {},
   "outputs": [],
   "source": [
    "# Fetch summary statistics from the Monte Carlo simulation results\n",
    "tbl3 = MC_five_year.summarize_cumulative_return()\n",
    "\n",
    "# Print summary statistics\n",
    "print(tbl3)"
   ]
  },
  {
   "cell_type": "code",
   "execution_count": null,
   "metadata": {},
   "outputs": [],
   "source": [
    "# as per starter code, initalizing new investment to $60000\n",
    "initial_investment3 = 60000\n",
    "\n",
    "# Use the lower and upper `95%` confidence intervals to calculate the range of the possible outcomes of our $60,000\n",
    "ci_lower_ten= round(tbl[8]*initial_investment3,2)\n",
    "ci_upper_ten = round(tbl[9]*initial_investment3,2)\n",
    "\n",
    "# Print results\n",
    "print(f\"There is a 95% chance that an initial investment of ${initial_investment3} in the portfolio\"\n",
    "      f\" over the next 10 years will end within in the range of\"\n",
    "      f\" ${ci_lower_ten} and ${ci_upper_ten}\")"
   ]
  }
 ],
 "metadata": {
  "kernelspec": {
   "display_name": "Python 3",
   "language": "python",
   "name": "python3"
  },
  "language_info": {
   "codemirror_mode": {
    "name": "ipython",
    "version": 3
   },
   "file_extension": ".py",
   "mimetype": "text/x-python",
   "name": "python",
   "nbconvert_exporter": "python",
   "pygments_lexer": "ipython3",
   "version": "3.7.10"
  },
  "nteract": {
   "version": "0.28.0"
  }
 },
 "nbformat": 4,
 "nbformat_minor": 4
}
